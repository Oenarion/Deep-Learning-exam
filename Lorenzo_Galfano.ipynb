{
  "cells": [
    {
      "cell_type": "markdown",
      "metadata": {
        "id": "z5M1GQcAjg3X"
      },
      "source": [
        "# Name, ID\n",
        "Lorenzo Galfano, 0001076019"
      ]
    },
    {
      "cell_type": "markdown",
      "metadata": {
        "id": "v85Qq_p0my49"
      },
      "source": [
        "# Next frame prediction\n",
        "\n",
        "The project consists of predicting the next frame in a short movie sequence.\n",
        "\n",
        "For this project, we shall use the Moving MNIST dataset, composed of 10,000 video sequences, each consisting of 20 frames. In each video sequence, two digits move independently around the frame, which has a spatial resolution of 64×64 pixels. The digits frequently intersect with each other and bounce off the edges of the frame.\n",
        "\n",
        "While each sequence has a lenght of 20, you are supposed to use **only 3 consecutive frames as input**, and **predict the next one**.\n",
        "\n",
        "The metric used to evalaute the quality of the predicted frame is Mean Squared Error."
      ]
    },
    {
      "cell_type": "code",
      "execution_count": 1,
      "metadata": {
        "execution": {
          "iopub.execute_input": "2023-07-08T11:40:57.794145Z",
          "iopub.status.busy": "2023-07-08T11:40:57.793246Z",
          "iopub.status.idle": "2023-07-08T11:40:57.799414Z",
          "shell.execute_reply": "2023-07-08T11:40:57.798182Z",
          "shell.execute_reply.started": "2023-07-08T11:40:57.794105Z"
        },
        "id": "Wlg8ZSz3FHFh",
        "trusted": true
      },
      "outputs": [],
      "source": [
        "import tensorflow as tf\n",
        "import tensorflow_datasets as tfds\n",
        "from tensorflow import keras\n",
        "from keras import layers\n",
        "\n",
        "import math\n",
        "import matplotlib.pyplot as plt\n",
        "import numpy as np"
      ]
    },
    {
      "cell_type": "code",
      "execution_count": null,
      "metadata": {
        "colab": {
          "base_uri": "https://localhost:8080/",
          "height": 172,
          "referenced_widgets": [
            "5ee6f55283d1483596e31d53f9690283",
            "0736faa51420463aad3f2c235e621e7c",
            "a07855c71f2f45fe85f3017c01eeb265",
            "3e13e79fed38441dbae5ef8d219fc4cc",
            "a46f191cca524639bd2cab3d9161bf75",
            "f479bb1bb4f5469193fa86b071f158d8",
            "641e0bb4336e4899b02746e913fa6bb4",
            "275476d73f60439b8d6de67d2f1d66f7",
            "8e83b23105fe468eadaa16ed749a96b5",
            "40ab4020c4b040ea8123b3b0d83eb292",
            "e1e0a9f07915413fab1cd70373d0bcae",
            "d4f14139faa940b0a0a29e65441335e4",
            "4b779c9581f849f3b8a6d2265d0ed1f0",
            "e5fc59c506d04cb3ba33d19b97cf6744",
            "365ecbb4b5be4d9eb4ec40d1b82220fc",
            "973b891a5c454fba8156a5649f15e78d",
            "47d354cd1cd74baf9b83e6f291d9d242",
            "7679f77967ad4a0f8c3c0d3e0b29fda9",
            "d468f9d522c54e0fa86208d2eb5d51f8",
            "6eb706ee60484c13bb611221f87ca836",
            "e7c590a2f2ce48a2b2e22c09d86fdf64",
            "c2b08ec92e30432abdd2540523d24b33",
            "2dfd04e235c044bb90349e1dbb79b46c",
            "1a0708852d5740d48b4e6fe061360766",
            "bdb110cce936491ca033df90133398c0",
            "1860523d48264425b008e9b04045ae1c",
            "f73dc6bc2aa04add9b7a3d26ad2307c7",
            "1f5075dda54d45b9847f94cd707579f7",
            "e172714c5f614dd690a4b807f249a315",
            "aedfb20c107b43b1af3004b11ec2373d",
            "4bb08a0624cf42688282f7d639fad88a",
            "0fd45c57c91f4175bcff2f8f65fe6f79",
            "c44841fed0964346a48342ee00ec8645",
            "c7047ea65b994a1d98d83b195754d249",
            "1d30c24c23284e519626e28b0a5ee07e",
            "2db6ce1677b74f84925f784fc5a301bd",
            "be4c8ffb053049fc8a1b14ab530ad9d7",
            "48caf57838bd40afa4ecd8886006a300",
            "8be5c88c82e04be2b16c6d0bd82f421f",
            "7d98caad32a44ec5876876b005f09044",
            "1f13476c9aed405fad095af2c1a1b815",
            "5366c84ef4b24615a2256124b387d501",
            "4308b1db94fa4fcb9baaa75531705b9b",
            "584566134fa447aeb8ad79603e5ed5ce",
            "c94016d74dd24e1ca27b974613e56078",
            "4cfb2c741eec45b69c50f04b651f3eb7",
            "d6e6c100050f42a999c8b12a92b2de1f",
            "24e6545fc66a40308520f37a9923baf8",
            "34927be62bd94dfe837fca409b92b95b",
            "0ccd05d6bd914d579940ca9a61ed2d2a",
            "a8c2831949eb4fdf9aec59edbe209761",
            "8076ca47dc6a4a86b129d1d7e881bbdf",
            "44a9c104077940818c25bee1e7cf9664",
            "c77e6a5cc2ac457aafefae04567eb782",
            "fb3dc8e9bacc48568a17de938be2287b",
            "cd988a8af5084b3caa505fe88d6de1bd",
            "1273d1d1e93546e7a721598ddb2c614e",
            ""
          ]
        },
        "execution": {
          "iopub.execute_input": "2023-07-08T11:41:00.398565Z",
          "iopub.status.busy": "2023-07-08T11:41:00.398054Z",
          "iopub.status.idle": "2023-07-08T11:43:47.730316Z",
          "shell.execute_reply": "2023-07-08T11:43:47.729361Z",
          "shell.execute_reply.started": "2023-07-08T11:41:00.398524Z"
        },
        "id": "0nyzhFRDVuFw",
        "outputId": "f45dc3a9-7d5a-498e-bc8f-a7a2484fcc69",
        "trusted": true
      },
      "outputs": [
        {
          "name": "stdout",
          "output_type": "stream",
          "text": [
            "\u001b[1mDownloading and preparing dataset Unknown size (download: Unknown size, generated: 91.70 MiB, total: 91.70 MiB) to /root/tensorflow_datasets/moving_mnist/1.0.0...\u001b[0m\n"
          ]
        },
        {
          "data": {
            "application/vnd.jupyter.widget-view+json": {
              "model_id": "cd988a8af5084b3caa505fe88d6de1bd",
              "version_major": 2,
              "version_minor": 0
            },
            "text/plain": [
              "Dl Completed...: 0 url [00:00, ? url/s]"
            ]
          },
          "metadata": {},
          "output_type": "display_data"
        },
        {
          "data": {
            "application/vnd.jupyter.widget-view+json": {
              "model_id": "1273d1d1e93546e7a721598ddb2c614e",
              "version_major": 2,
              "version_minor": 0
            },
            "text/plain": [
              "Dl Size...: 0 MiB [00:00, ? MiB/s]"
            ]
          },
          "metadata": {},
          "output_type": "display_data"
        },
        {
          "data": {
            "application/vnd.jupyter.widget-view+json": {
              "model_id": "",
              "version_major": 2,
              "version_minor": 0
            },
            "text/plain": [
              "Generating splits...:   0%|          | 0/1 [00:00<?, ? splits/s]"
            ]
          },
          "metadata": {},
          "output_type": "display_data"
        },
        {
          "data": {
            "application/vnd.jupyter.widget-view+json": {
              "model_id": "",
              "version_major": 2,
              "version_minor": 0
            },
            "text/plain": [
              "Generating test examples...:   0%|          | 0/10000 [00:00<?, ? examples/s]"
            ]
          },
          "metadata": {},
          "output_type": "display_data"
        },
        {
          "data": {
            "application/vnd.jupyter.widget-view+json": {
              "model_id": "",
              "version_major": 2,
              "version_minor": 0
            },
            "text/plain": [
              "Shuffling /root/tensorflow_datasets/moving_mnist/1.0.0.incomplete1HBL37/moving_mnist-test.tfrecord*...:   0%| …"
            ]
          },
          "metadata": {},
          "output_type": "display_data"
        },
        {
          "name": "stdout",
          "output_type": "stream",
          "text": [
            "\u001b[1mDataset moving_mnist downloaded and prepared to /root/tensorflow_datasets/moving_mnist/1.0.0. Subsequent calls will reuse this data.\u001b[0m\n"
          ]
        }
      ],
      "source": [
        "ds = tfds.as_numpy(tfds.load(\n",
        "    'moving_mnist',\n",
        "    split='test',\n",
        "    batch_size=-1\n",
        "))\n",
        "sequences = ds['image_sequence']"
      ]
    },
    {
      "cell_type": "markdown",
      "metadata": {
        "id": "DAoig0Xojsxd"
      },
      "source": [
        "# Preprocessing changes\n",
        "\n",
        "I changed a bit the preprocessing of data, not squeezing and swapping the axis, this is due to the fact that I used LSTM layers in my model and they require 5 dimensions as input, which were reduced to 4 with the squeeze operation. To avoid adding a Reshape layer at the start of the network I opted for this change."
      ]
    },
    {
      "cell_type": "markdown",
      "metadata": {
        "id": "0hBUgpONkmSb"
      },
      "source": [
        "The dataset is composed of 10000 sequences of 20 frames each. Each (grayscale) frame has dimension 64x64"
      ]
    },
    {
      "cell_type": "code",
      "execution_count": null,
      "metadata": {
        "colab": {
          "base_uri": "https://localhost:8080/"
        },
        "execution": {
          "iopub.execute_input": "2023-07-08T11:43:47.732785Z",
          "iopub.status.busy": "2023-07-08T11:43:47.732429Z",
          "iopub.status.idle": "2023-07-08T11:43:52.453059Z",
          "shell.execute_reply": "2023-07-08T11:43:52.452067Z",
          "shell.execute_reply.started": "2023-07-08T11:43:47.732751Z"
        },
        "id": "ZkS8Z9bXVxVG",
        "outputId": "df163563-e604-41ce-e1fa-2f4717867207",
        "trusted": true
      },
      "outputs": [
        {
          "name": "stdout",
          "output_type": "stream",
          "text": [
            "(10000, 20, 64, 64, 1)\n",
            "0.0 1.0\n"
          ]
        }
      ],
      "source": [
        "#sequences = np.squeeze(np.swapaxes(sequences, 1, 4),axis=1)/255.\n",
        "sequences=sequences/255\n",
        "print(sequences.shape)\n",
        "print(np.min(sequences),np.max(sequences))"
      ]
    },
    {
      "cell_type": "markdown",
      "metadata": {
        "id": "iymO2Vw8kqUS"
      },
      "source": [
        "Let us split the dataset in training, validation and testing.\n",
        "You are supposed to evaluate the performance of your model using MSE over the full test set."
      ]
    },
    {
      "cell_type": "code",
      "execution_count": null,
      "metadata": {
        "colab": {
          "base_uri": "https://localhost:8080/"
        },
        "execution": {
          "iopub.execute_input": "2023-07-08T11:43:52.455071Z",
          "iopub.status.busy": "2023-07-08T11:43:52.454412Z",
          "iopub.status.idle": "2023-07-08T11:43:52.462250Z",
          "shell.execute_reply": "2023-07-08T11:43:52.459819Z",
          "shell.execute_reply.started": "2023-07-08T11:43:52.455035Z"
        },
        "id": "CZSAjVd9bYhl",
        "outputId": "ee249783-c89d-401f-f0f8-d4a408616900",
        "trusted": true
      },
      "outputs": [
        {
          "name": "stdout",
          "output_type": "stream",
          "text": [
            "(1000, 20, 64, 64, 1)\n"
          ]
        }
      ],
      "source": [
        "trainset = sequences[:8000]\n",
        "valset = sequences[8000:9000]\n",
        "testset = sequences[9000:10000]\n",
        "print(testset.shape)"
      ]
    },
    {
      "cell_type": "markdown",
      "metadata": {
        "id": "Ro84EIPjpCDW"
      },
      "source": [
        "Because I changed the dimension of the sequences, the image_generator had to be changed accordingly, i.e batch_x and batch_y now have 5 dimensions and not 4, notice that the dimensions are in this order <b>(batchsize,time,rows,columns,channels)</b> always following the ConvLSTM2D input_shape format."
      ]
    },
    {
      "cell_type": "code",
      "execution_count": null,
      "metadata": {
        "execution": {
          "iopub.execute_input": "2023-07-08T11:43:52.465796Z",
          "iopub.status.busy": "2023-07-08T11:43:52.464923Z",
          "iopub.status.idle": "2023-07-08T11:43:52.575298Z",
          "shell.execute_reply": "2023-07-08T11:43:52.574210Z",
          "shell.execute_reply.started": "2023-07-08T11:43:52.465764Z"
        },
        "id": "ZzzBAxNwKOGt",
        "trusted": true
      },
      "outputs": [],
      "source": [
        "def image_generator(dataset,batchsize=16,seqlen=4):\n",
        "    while True:\n",
        "      batch_x = np.zeros((batchsize,seqlen-1,64,64,1))\n",
        "      batch_y = np.zeros((batchsize,1,64,64,1))\n",
        "      ran = np.random.randint(dataset.shape[0],size=batchsize)\n",
        "      minibatch = dataset[ran]\n",
        "      #these sequences have length 20; we reduce them to seqlen\n",
        "      for i in range(batchsize):\n",
        "          random_start = np.random.randint(0,20-seqlen)\n",
        "          random_end = random_start+seqlen-1\n",
        "          batch_x[i,:,:,:,0] = minibatch[i,random_start:random_end,:,:,0]\n",
        "          batch_y[i,:,:,:,0] = minibatch[i,random_end:random_end+1,:,:,0]\n",
        "      yield(batch_x,batch_y)"
      ]
    },
    {
      "cell_type": "code",
      "execution_count": null,
      "metadata": {
        "execution": {
          "iopub.execute_input": "2023-07-08T11:43:52.577407Z",
          "iopub.status.busy": "2023-07-08T11:43:52.576774Z",
          "iopub.status.idle": "2023-07-08T11:43:52.583477Z",
          "shell.execute_reply": "2023-07-08T11:43:52.582551Z",
          "shell.execute_reply.started": "2023-07-08T11:43:52.577372Z"
        },
        "id": "1i9wGAY0fl1C",
        "trusted": true
      },
      "outputs": [],
      "source": [
        "prova_gen = image_generator(testset,batchsize=1,seqlen=4)"
      ]
    },
    {
      "cell_type": "code",
      "execution_count": null,
      "metadata": {
        "colab": {
          "base_uri": "https://localhost:8080/"
        },
        "execution": {
          "iopub.execute_input": "2023-07-08T11:43:52.585831Z",
          "iopub.status.busy": "2023-07-08T11:43:52.584842Z",
          "iopub.status.idle": "2023-07-08T11:43:52.596751Z",
          "shell.execute_reply": "2023-07-08T11:43:52.595576Z",
          "shell.execute_reply.started": "2023-07-08T11:43:52.585800Z"
        },
        "id": "Y7n5_ZMvf1Xe",
        "outputId": "4fb6d732-0dcf-4fb0-d908-b2825e6ad5ac",
        "trusted": true
      },
      "outputs": [
        {
          "name": "stdout",
          "output_type": "stream",
          "text": [
            "(1, 3, 64, 64, 1) (1, 1, 64, 64, 1)\n"
          ]
        }
      ],
      "source": [
        "sample_x, sample_y = next(prova_gen)\n",
        "print(sample_x.shape,sample_y.shape)\n"
      ]
    },
    {
      "cell_type": "code",
      "execution_count": null,
      "metadata": {
        "colab": {
          "base_uri": "https://localhost:8080/"
        },
        "execution": {
          "iopub.execute_input": "2023-07-08T11:43:52.599012Z",
          "iopub.status.busy": "2023-07-08T11:43:52.598613Z",
          "iopub.status.idle": "2023-07-08T11:43:52.604697Z",
          "shell.execute_reply": "2023-07-08T11:43:52.603548Z",
          "shell.execute_reply.started": "2023-07-08T11:43:52.598980Z"
        },
        "id": "LAtcBioVkd89",
        "outputId": "0b9e8a46-cb1a-4e5b-986d-189235ba189e",
        "trusted": true
      },
      "outputs": [
        {
          "name": "stdout",
          "output_type": "stream",
          "text": [
            "<class 'numpy.ndarray'>\n"
          ]
        }
      ],
      "source": [
        "print(type(sample_x))"
      ]
    },
    {
      "cell_type": "code",
      "execution_count": null,
      "metadata": {
        "execution": {
          "iopub.execute_input": "2023-07-08T11:43:52.607025Z",
          "iopub.status.busy": "2023-07-08T11:43:52.606381Z",
          "iopub.status.idle": "2023-07-08T11:43:52.613842Z",
          "shell.execute_reply": "2023-07-08T11:43:52.612943Z",
          "shell.execute_reply.started": "2023-07-08T11:43:52.606993Z"
        },
        "id": "V-84FZcphrsf",
        "trusted": true
      },
      "outputs": [],
      "source": [
        "def show_list(images): #takes in input a list of images and plot them\n",
        "    size = len(images)\n",
        "    plt.figure(figsize=(10, 10 * size))\n",
        "    for i in range(size):\n",
        "        plt.subplot(1, size, i + 1)\n",
        "        plt.imshow(images[i],cmap='gray',)\n",
        "    plt.axis(\"off\")\n",
        "    plt.tight_layout()\n",
        "    plt.show()\n",
        "    plt.close()"
      ]
    },
    {
      "cell_type": "code",
      "execution_count": null,
      "metadata": {
        "colab": {
          "base_uri": "https://localhost:8080/",
          "height": 268
        },
        "execution": {
          "iopub.execute_input": "2023-07-08T11:43:52.615951Z",
          "iopub.status.busy": "2023-07-08T11:43:52.615499Z",
          "iopub.status.idle": "2023-07-08T11:43:53.335609Z",
          "shell.execute_reply": "2023-07-08T11:43:53.334728Z",
          "shell.execute_reply.started": "2023-07-08T11:43:52.615911Z"
        },
        "id": "I3MgP84rjLdO",
        "outputId": "c8a570d5-35ce-4395-d96e-d21d1152eaf5",
        "trusted": true
      },
      "outputs": [
        {
          "data": {
            "image/png": "[encoded data removed]",
            "text/plain": [
              "<Figure size 1000x4000 with 4 Axes>"
            ]
          },
          "metadata": {},
          "output_type": "display_data"
        }
      ],
      "source": [
        "all = [sample_x[0,i,:,:,0] for i in range(3)]+[sample_y[0,0,:,:,0]]\n",
        "show_list(all)"
      ]
    },
    {
      "cell_type": "code",
      "execution_count": null,
      "metadata": {
        "execution": {
          "iopub.execute_input": "2023-07-08T11:43:53.339240Z",
          "iopub.status.busy": "2023-07-08T11:43:53.338869Z",
          "iopub.status.idle": "2023-07-08T11:43:53.344701Z",
          "shell.execute_reply": "2023-07-08T11:43:53.343492Z",
          "shell.execute_reply.started": "2023-07-08T11:43:53.339205Z"
        },
        "id": "ZedwxykwK_8D",
        "trusted": true
      },
      "outputs": [],
      "source": [
        "train_gen = image_generator(trainset)\n",
        "val_gen = image_generator(valset)\n",
        "test_gen = image_generator(testset)"
      ]
    },
    {
      "cell_type": "code",
      "execution_count": null,
      "metadata": {
        "execution": {
          "iopub.execute_input": "2023-07-08T11:43:53.347098Z",
          "iopub.status.busy": "2023-07-08T11:43:53.346518Z",
          "iopub.status.idle": "2023-07-08T11:43:53.359388Z",
          "shell.execute_reply": "2023-07-08T11:43:53.358482Z",
          "shell.execute_reply.started": "2023-07-08T11:43:53.347063Z"
        },
        "id": "PXIoWhFvL6uK",
        "trusted": true
      },
      "outputs": [],
      "source": [
        "sample_x, sample_y = next(train_gen)"
      ]
    },
    {
      "cell_type": "markdown",
      "metadata": {
        "id": "GVWG_FYLlB5B"
      },
      "source": [
        "# The Model\n",
        "\n",
        "The model I used is the following:<ul>\n",
        "<li>4 <b>ConvLSTM2D</b> layers </li>\n",
        "<li>3 <b>BatchNormalization</b> layers</li><li>1 <b>3D Convolution</b> layer</li><li>1 <b>Lambda/Reshape</b> layer</li>\n",
        "</ul>\n",
        "<br>\n",
        "\n",
        "The Convolution Long Short-Term Memory layers serve the purpose of <b>learning long-term dependencies between time steps of data</b>. <br>The main difference with a normal LSTM layer is that the input and recurrent transformations are both 2 dimensional convolutional transformations.<br> This gives our model the <b>ability to interpret visual information in the form of 2D images</b> and the <b>ability to understand time sequences</b>, which is ideal for frame prediction.\n",
        "\n",
        "<br>The BatchNormalization after each LSTM is used to <b>achieve a more stable and faster NN</b>, this is done by changing the distribution of the next layer such that the inputs of each layer have a mean of 0 and a unit variance.\n",
        "\n",
        "<br>We then use a 3D Convolution to extract important visual features from the outputs of our ConvLSTM2D layers, notice that the <b>activation function is a sigmoid</b>, which allows to output video frames with pixels with brightness between 0 and 1.\n",
        "\n",
        "The 3D Conv has as output 3 tensors, with various tests I noticed that the first 2 were always a worse blurred version of the last one, thus, to have a more precise computation of the MSE, I decided to remove the first 2 tensors and <b>base the computation only on the last one</b>.\n",
        "\n",
        "<br>Lastly, the Lambda layer and the Reshape one are used to take into account only the last tensor of our network as said previously.\n"
      ]
    },
    {
      "cell_type": "code",
      "execution_count": 2,
      "metadata": {
        "execution": {
          "iopub.execute_input": "2023-07-08T11:43:53.361577Z",
          "iopub.status.busy": "2023-07-08T11:43:53.360983Z",
          "iopub.status.idle": "2023-07-08T11:43:54.093269Z",
          "shell.execute_reply": "2023-07-08T11:43:54.092298Z",
          "shell.execute_reply.started": "2023-07-08T11:43:53.361545Z"
        },
        "id": "o5_2IDGsAm9i",
        "trusted": true
      },
      "outputs": [],
      "source": [
        "inp = layers.Input(shape=(3,64,64,1))\n",
        "x = layers.ConvLSTM2D(\n",
        "    filters=64,\n",
        "    kernel_size=(9, 9),\n",
        "    padding=\"same\",\n",
        "    return_sequences=True,\n",
        "    activation=\"relu\",\n",
        ")(inp)\n",
        "x=layers.BatchNormalization()(x)\n",
        "x = layers.ConvLSTM2D(\n",
        "    filters=64,\n",
        "    kernel_size=(5, 5),\n",
        "    padding=\"same\",\n",
        "    return_sequences=True,\n",
        "    activation=\"relu\",\n",
        ")(x)\n",
        "x = layers.BatchNormalization()(x)\n",
        "x = layers.ConvLSTM2D(\n",
        "    filters=64,\n",
        "    kernel_size=(3, 3),\n",
        "    padding=\"same\",\n",
        "    return_sequences=True,\n",
        "    activation=\"relu\",\n",
        ")(x)\n",
        "x = layers.BatchNormalization()(x)\n",
        "x = layers.ConvLSTM2D(\n",
        "    filters=64,\n",
        "    kernel_size=(1, 1),\n",
        "    padding=\"same\",\n",
        "    return_sequences=True,\n",
        "    activation=\"relu\",\n",
        ")(x)\n",
        "x = layers.Conv3D(\n",
        "    filters=1, kernel_size=(3, 3, 3), activation=\"sigmoid\", padding=\"same\"\n",
        ")(x)\n",
        "x=layers.Lambda(lambda x: x[:,-1, :, :, :])(x)\n",
        "x=layers.Reshape((1,64,64,1))(x)\n",
        "\n",
        "# Next, we will build the complete model and compile it.\n",
        "model5 = keras.models.Model(inp, x)"
      ]
    },
    {
      "cell_type": "markdown",
      "metadata": {
        "id": "2UXWvevexWeK"
      },
      "source": [
        "# Model Summary\n",
        "\n",
        "Following the problems instructions, the metric is set to be <b>MSE</b>, while for the loss I opted for the <b>binary crossentropy</b>."
      ]
    },
    {
      "cell_type": "code",
      "execution_count": 3,
      "metadata": {
        "colab": {
          "base_uri": "https://localhost:8080/"
        },
        "execution": {
          "iopub.execute_input": "2023-07-08T11:43:54.095196Z",
          "iopub.status.busy": "2023-07-08T11:43:54.094856Z",
          "iopub.status.idle": "2023-07-08T11:43:54.156149Z",
          "shell.execute_reply": "2023-07-08T11:43:54.155202Z",
          "shell.execute_reply.started": "2023-07-08T11:43:54.095160Z"
        },
        "id": "J0KVaZscA7G0",
        "outputId": "4ef613da-624b-4519-fcf5-15af88017054",
        "trusted": true
      },
      "outputs": [
        {
          "output_type": "stream",
          "name": "stdout",
          "text": [
            "Model: \"model\"\n",
            "_________________________________________________________________\n",
            " Layer (type)                Output Shape              Param #   \n",
            "=================================================================\n",
            " input_1 (InputLayer)        [(None, 3, 64, 64, 1)]    0         \n",
            "                                                                 \n",
            " conv_lstm2d (ConvLSTM2D)    (None, 3, 64, 64, 64)     1348096   \n",
            "                                                                 \n",
            " batch_normalization (BatchN  (None, 3, 64, 64, 64)    256       \n",
            " ormalization)                                                   \n",
            "                                                                 \n",
            " conv_lstm2d_1 (ConvLSTM2D)  (None, 3, 64, 64, 64)     819456    \n",
            "                                                                 \n",
            " batch_normalization_1 (Batc  (None, 3, 64, 64, 64)    256       \n",
            " hNormalization)                                                 \n",
            "                                                                 \n",
            " conv_lstm2d_2 (ConvLSTM2D)  (None, 3, 64, 64, 64)     295168    \n",
            "                                                                 \n",
            " batch_normalization_2 (Batc  (None, 3, 64, 64, 64)    256       \n",
            " hNormalization)                                                 \n",
            "                                                                 \n",
            " conv_lstm2d_3 (ConvLSTM2D)  (None, 3, 64, 64, 64)     33024     \n",
            "                                                                 \n",
            " conv3d (Conv3D)             (None, 3, 64, 64, 1)      1729      \n",
            "                                                                 \n",
            " lambda (Lambda)             (None, 64, 64, 1)         0         \n",
            "                                                                 \n",
            " reshape (Reshape)           (None, 1, 64, 64, 1)      0         \n",
            "                                                                 \n",
            "=================================================================\n",
            "Total params: 2,498,241\n",
            "Trainable params: 2,497,857\n",
            "Non-trainable params: 384\n",
            "_________________________________________________________________\n"
          ]
        }
      ],
      "source": [
        "model5.summary()\n",
        "model5.compile(\n",
        "    loss=keras.losses.binary_crossentropy, optimizer=keras.optimizers.Adam(),metrics=[keras.metrics.MeanSquaredError()],\n",
        ")"
      ]
    },
    {
      "cell_type": "markdown",
      "metadata": {
        "id": "DKs5XVoIxQl4"
      },
      "source": [
        "# Hyperparameters and training\n",
        "The hyperparameters we have to set are the <b>epochs</b> and the <b>batch_size</b>:<ul>\n",
        "<li>The epochs are <b>40</b>, but it can be seen that after<b> epoch 25 the MSE score hardly undergoes major changes</b>. </li>\n",
        "<li>The batch size is set to <b>16</b>, I tried both 32 and 8 as dimension for the batch, they were pretty similar, giving slightly better/worse results. I decided to use 16 batch-size to have a trade-off between the training time and the goodness of the result. </li>\n",
        "</ul>\n",
        "\n",
        "My final decision for hyperparameters was <b>mainly based on the computational power that I had</b>, the 40 epochs can be seen as an <b>\"upper limit\"</b>, because I found it pretty hard to go above them. Also, as stated before, 25 or a little more epochs could have reached a similar result.\n",
        "\n",
        "Lastly, notice that to ease the computation and avoid overfitting <b>callbacks</b> were added to the algorithm."
      ]
    },
    {
      "cell_type": "code",
      "execution_count": null,
      "metadata": {
        "colab": {
          "base_uri": "https://localhost:8080/"
        },
        "execution": {
          "iopub.execute_input": "2023-07-08T11:43:54.158184Z",
          "iopub.status.busy": "2023-07-08T11:43:54.157616Z",
          "iopub.status.idle": "2023-07-08T13:59:25.918857Z",
          "shell.execute_reply": "2023-07-08T13:59:25.917712Z",
          "shell.execute_reply.started": "2023-07-08T11:43:54.158151Z"
        },
        "id": "junDXwQUA8qq",
        "outputId": "989d2f8f-d705-4989-89bf-fa078d0fd642",
        "trusted": true
      },
      "outputs": [
        {
          "name": "stdout",
          "output_type": "stream",
          "text": [
            "Epoch 1/40\n",
            "500/500 [==============================] - 221s 404ms/step - loss: 0.0842 - mean_squared_error: 0.0202 - val_loss: 0.0938 - val_mean_squared_error: 0.0222 - lr: 0.0010\n",
            "Epoch 2/40\n",
            "500/500 [==============================] - 201s 402ms/step - loss: 0.0691 - mean_squared_error: 0.0154 - val_loss: 0.0693 - val_mean_squared_error: 0.0154 - lr: 0.0010\n",
            "Epoch 3/40\n",
            "500/500 [==============================] - 201s 403ms/step - loss: 0.0654 - mean_squared_error: 0.0140 - val_loss: 0.0660 - val_mean_squared_error: 0.0140 - lr: 0.0010\n",
            "Epoch 4/40\n",
            "500/500 [==============================] - 201s 403ms/step - loss: 0.0634 - mean_squared_error: 0.0133 - val_loss: 0.0627 - val_mean_squared_error: 0.0129 - lr: 0.0010\n",
            "Epoch 5/40\n",
            "500/500 [==============================] - 203s 405ms/step - loss: 0.0615 - mean_squared_error: 0.0126 - val_loss: 0.0616 - val_mean_squared_error: 0.0125 - lr: 0.0010\n",
            "Epoch 6/40\n",
            "500/500 [==============================] - 202s 405ms/step - loss: 0.0606 - mean_squared_error: 0.0124 - val_loss: 0.0594 - val_mean_squared_error: 0.0119 - lr: 0.0010\n",
            "Epoch 7/40\n",
            "500/500 [==============================] - 201s 402ms/step - loss: 0.0593 - mean_squared_error: 0.0119 - val_loss: 0.0597 - val_mean_squared_error: 0.0118 - lr: 0.0010\n",
            "Epoch 8/40\n",
            "500/500 [==============================] - 203s 405ms/step - loss: 0.0586 - mean_squared_error: 0.0116 - val_loss: 0.0602 - val_mean_squared_error: 0.0121 - lr: 0.0010\n",
            "Epoch 9/40\n",
            "500/500 [==============================] - 201s 402ms/step - loss: 0.0586 - mean_squared_error: 0.0116 - val_loss: 0.0589 - val_mean_squared_error: 0.0117 - lr: 0.0010\n",
            "Epoch 10/40\n",
            "500/500 [==============================] - 203s 405ms/step - loss: 0.0575 - mean_squared_error: 0.0113 - val_loss: 0.0585 - val_mean_squared_error: 0.0114 - lr: 0.0010\n",
            "Epoch 11/40\n",
            "500/500 [==============================] - 201s 403ms/step - loss: 0.0567 - mean_squared_error: 0.0110 - val_loss: 0.0560 - val_mean_squared_error: 0.0108 - lr: 0.0010\n",
            "Epoch 12/40\n",
            "500/500 [==============================] - 203s 406ms/step - loss: 0.0565 - mean_squared_error: 0.0110 - val_loss: 0.0577 - val_mean_squared_error: 0.0113 - lr: 0.0010\n",
            "Epoch 13/40\n",
            "500/500 [==============================] - 203s 405ms/step - loss: 0.0565 - mean_squared_error: 0.0110 - val_loss: 0.0557 - val_mean_squared_error: 0.0107 - lr: 0.0010\n",
            "Epoch 14/40\n",
            "500/500 [==============================] - 203s 405ms/step - loss: 0.0562 - mean_squared_error: 0.0108 - val_loss: 0.0576 - val_mean_squared_error: 0.0112 - lr: 0.0010\n",
            "Epoch 15/40\n",
            "500/500 [==============================] - 201s 402ms/step - loss: 0.0561 - mean_squared_error: 0.0108 - val_loss: 0.0566 - val_mean_squared_error: 0.0109 - lr: 0.0010\n",
            "Epoch 16/40\n",
            "500/500 [==============================] - 203s 405ms/step - loss: 0.0557 - mean_squared_error: 0.0106 - val_loss: 0.0570 - val_mean_squared_error: 0.0110 - lr: 0.0010\n",
            "Epoch 17/40\n",
            "500/500 [==============================] - 203s 406ms/step - loss: 0.0554 - mean_squared_error: 0.0105 - val_loss: 0.0555 - val_mean_squared_error: 0.0105 - lr: 0.0010\n",
            "Epoch 18/40\n",
            "500/500 [==============================] - 202s 405ms/step - loss: 0.0548 - mean_squared_error: 0.0104 - val_loss: 0.0565 - val_mean_squared_error: 0.0108 - lr: 0.0010\n",
            "Epoch 19/40\n",
            "500/500 [==============================] - 201s 402ms/step - loss: 0.0545 - mean_squared_error: 0.0103 - val_loss: 0.0545 - val_mean_squared_error: 0.0102 - lr: 0.0010\n",
            "Epoch 20/40\n",
            "500/500 [==============================] - 201s 402ms/step - loss: 0.0547 - mean_squared_error: 0.0103 - val_loss: 0.0562 - val_mean_squared_error: 0.0107 - lr: 0.0010\n",
            "Epoch 21/40\n",
            "500/500 [==============================] - 201s 402ms/step - loss: 0.0542 - mean_squared_error: 0.0102 - val_loss: 0.0548 - val_mean_squared_error: 0.0103 - lr: 0.0010\n",
            "Epoch 22/40\n",
            "500/500 [==============================] - 202s 405ms/step - loss: 0.0543 - mean_squared_error: 0.0102 - val_loss: 0.0552 - val_mean_squared_error: 0.0103 - lr: 0.0010\n",
            "Epoch 23/40\n",
            "500/500 [==============================] - 201s 402ms/step - loss: 0.0542 - mean_squared_error: 0.0102 - val_loss: 0.0546 - val_mean_squared_error: 0.0103 - lr: 0.0010\n",
            "Epoch 24/40\n",
            "500/500 [==============================] - 203s 405ms/step - loss: 0.0543 - mean_squared_error: 0.0102 - val_loss: 0.0545 - val_mean_squared_error: 0.0102 - lr: 0.0010\n",
            "Epoch 25/40\n",
            "500/500 [==============================] - 203s 405ms/step - loss: 0.0525 - mean_squared_error: 0.0096 - val_loss: 0.0525 - val_mean_squared_error: 0.0095 - lr: 1.0000e-04\n",
            "Epoch 26/40\n",
            "500/500 [==============================] - 201s 402ms/step - loss: 0.0527 - mean_squared_error: 0.0097 - val_loss: 0.0533 - val_mean_squared_error: 0.0097 - lr: 1.0000e-04\n",
            "Epoch 27/40\n",
            "500/500 [==============================] - 201s 402ms/step - loss: 0.0520 - mean_squared_error: 0.0095 - val_loss: 0.0531 - val_mean_squared_error: 0.0098 - lr: 1.0000e-04\n",
            "Epoch 28/40\n",
            "500/500 [==============================] - 202s 405ms/step - loss: 0.0519 - mean_squared_error: 0.0094 - val_loss: 0.0527 - val_mean_squared_error: 0.0097 - lr: 1.0000e-04\n",
            "Epoch 29/40\n",
            "500/500 [==============================] - 201s 402ms/step - loss: 0.0518 - mean_squared_error: 0.0094 - val_loss: 0.0532 - val_mean_squared_error: 0.0098 - lr: 1.0000e-04\n",
            "Epoch 30/40\n",
            "500/500 [==============================] - 201s 401ms/step - loss: 0.0519 - mean_squared_error: 0.0095 - val_loss: 0.0524 - val_mean_squared_error: 0.0095 - lr: 1.0000e-04\n",
            "Epoch 31/40\n",
            "500/500 [==============================] - 201s 402ms/step - loss: 0.0519 - mean_squared_error: 0.0094 - val_loss: 0.0513 - val_mean_squared_error: 0.0092 - lr: 1.0000e-05\n",
            "Epoch 32/40\n",
            "500/500 [==============================] - 201s 401ms/step - loss: 0.0519 - mean_squared_error: 0.0094 - val_loss: 0.0514 - val_mean_squared_error: 0.0092 - lr: 1.0000e-05\n",
            "Epoch 33/40\n",
            "500/500 [==============================] - 202s 405ms/step - loss: 0.0524 - mean_squared_error: 0.0096 - val_loss: 0.0528 - val_mean_squared_error: 0.0096 - lr: 1.0000e-05\n",
            "Epoch 34/40\n",
            "500/500 [==============================] - 202s 405ms/step - loss: 0.0515 - mean_squared_error: 0.0093 - val_loss: 0.0526 - val_mean_squared_error: 0.0096 - lr: 1.0000e-05\n",
            "Epoch 35/40\n",
            "500/500 [==============================] - 201s 402ms/step - loss: 0.0516 - mean_squared_error: 0.0093 - val_loss: 0.0517 - val_mean_squared_error: 0.0093 - lr: 1.0000e-05\n",
            "Epoch 36/40\n",
            "500/500 [==============================] - 201s 402ms/step - loss: 0.0518 - mean_squared_error: 0.0094 - val_loss: 0.0526 - val_mean_squared_error: 0.0096 - lr: 1.0000e-05\n",
            "Epoch 37/40\n",
            "500/500 [==============================] - 203s 405ms/step - loss: 0.0516 - mean_squared_error: 0.0093 - val_loss: 0.0522 - val_mean_squared_error: 0.0095 - lr: 1.0000e-06\n",
            "Epoch 38/40\n",
            "500/500 [==============================] - 201s 402ms/step - loss: 0.0515 - mean_squared_error: 0.0093 - val_loss: 0.0534 - val_mean_squared_error: 0.0098 - lr: 1.0000e-06\n",
            "Epoch 39/40\n",
            "500/500 [==============================] - 203s 405ms/step - loss: 0.0516 - mean_squared_error: 0.0093 - val_loss: 0.0530 - val_mean_squared_error: 0.0096 - lr: 1.0000e-06\n",
            "Epoch 40/40\n",
            "500/500 [==============================] - 201s 402ms/step - loss: 0.0519 - mean_squared_error: 0.0094 - val_loss: 0.0518 - val_mean_squared_error: 0.0093 - lr: 1.0000e-06\n"
          ]
        },
        {
          "data": {
            "text/plain": [
              "<keras.callbacks.History at 0x7a39d81917e0>"
            ]
          },
          "execution_count": 17,
          "metadata": {},
          "output_type": "execute_result"
        }
      ],
      "source": [
        "# Define some callbacks to improve training.\n",
        "early_stopping = keras.callbacks.EarlyStopping(monitor=\"val_mean_squared_error\", patience=10)\n",
        "reduce_lr = keras.callbacks.ReduceLROnPlateau(monitor=\"val_mean_squared_error\", patience=5)\n",
        "\n",
        "# Define modifiable training hyperparameters.\n",
        "epochs = 40\n",
        "batch_size = 16\n",
        "\n",
        "# Fit the model to the training data.\n",
        "\n",
        "model5.fit(x=train_gen,\n",
        "          steps_per_epoch=len(trainset) // batch_size,\n",
        "          epochs=epochs,\n",
        "          validation_data=val_gen,\n",
        "          validation_steps=len(valset) // batch_size,\n",
        "          callbacks=[early_stopping,reduce_lr])"
      ]
    },
    {
      "cell_type": "markdown",
      "metadata": {
        "id": "I9QgEr1IzZyB"
      },
      "source": [
        "# Results\n",
        "\n",
        "The result for this model gives us a really good MSE, the <b>average is always < 0.01</b>, and if we print randomly predicted images we can see that it performs really well, as the predicted images is almost identical to the original one.\n",
        "\n",
        "A better result could've been achieved probably with a bigger network, but I think that there would have been <b>no major improvements to the MSE</b> and the training time would've been prohibitive."
      ]
    },
    {
      "cell_type": "code",
      "execution_count": null,
      "metadata": {
        "colab": {
          "base_uri": "https://localhost:8080/"
        },
        "execution": {
          "iopub.execute_input": "2023-07-08T14:11:49.773833Z",
          "iopub.status.busy": "2023-07-08T14:11:49.773478Z",
          "iopub.status.idle": "2023-07-08T14:11:58.668049Z",
          "shell.execute_reply": "2023-07-08T14:11:58.666964Z",
          "shell.execute_reply.started": "2023-07-08T14:11:49.773804Z"
        },
        "id": "b0VefIZoHEKG",
        "outputId": "ee76dec6-dfea-4e84-c0d3-ff6f6aa6cc27",
        "trusted": true
      },
      "outputs": [
        {
          "name": "stdout",
          "output_type": "stream",
          "text": [
            "62/62 [==============================] - 9s 142ms/step - loss: 0.0507 - mean_squared_error: 0.0091\n",
            "Test loss: [0.05068250745534897, 0.009059224277734756]\n"
          ]
        }
      ],
      "source": [
        "test_loss = model5.evaluate(test_gen, steps=len(testset) // batch_size)\n",
        "print(\"Test loss:\", test_loss)"
      ]
    },
    {
      "cell_type": "markdown",
      "metadata": {
        "id": "gEfv9bJ-bewt"
      },
      "source": [
        "Printing the predicted image"
      ]
    },
    {
      "cell_type": "code",
      "execution_count": null,
      "metadata": {
        "colab": {
          "base_uri": "https://localhost:8080/",
          "height": 555
        },
        "execution": {
          "iopub.execute_input": "2023-07-08T13:59:50.398404Z",
          "iopub.status.busy": "2023-07-08T13:59:50.398031Z",
          "iopub.status.idle": "2023-07-08T13:59:52.661713Z",
          "shell.execute_reply": "2023-07-08T13:59:52.659653Z",
          "shell.execute_reply.started": "2023-07-08T13:59:50.398368Z"
        },
        "id": "y_kC8jKkHphh",
        "outputId": "091e9458-f71d-4398-d41c-643c099e7704",
        "trusted": true
      },
      "outputs": [
        {
          "name": "stdout",
          "output_type": "stream",
          "text": [
            "1/1 [==============================] - 1s 920ms/step\n",
            "(16, 1, 64, 64, 1)\n"
          ]
        },
        {
          "data": {
            "image/png": "[encoded data removed]",
            "text/plain": [
              "<Figure size 1000x4000 with 4 Axes>"
            ]
          },
          "metadata": {},
          "output_type": "display_data"
        },
        {
          "data": {
            "image/png": "[encoded data removed]",
            "text/plain": [
              "<Figure size 1000x4000 with 4 Axes>"
            ]
          },
          "metadata": {},
          "output_type": "display_data"
        }
      ],
      "source": [
        "sample_x,sample_y=next(test_gen)\n",
        "\n",
        "new_prediction=model5.predict(sample_x)\n",
        "print(new_prediction.shape)\n",
        "all = [sample_x[0,i,:,:,:] for i in range(3)]+[sample_y[0,0,:,:,0]]\n",
        "show_list(all)\n",
        "all = [sample_x[0,i,:,:,:] for i in range(3)]+[new_prediction[0,0,:,:,0]]\n",
        "show_list(all)"
      ]
    },
    {
      "cell_type": "markdown",
      "metadata": {
        "id": "Bi4vVKR1qzjV"
      },
      "source": [
        "# Other models and results\n",
        "\n",
        "The first model I tried was a simple <b> CNN </b> with various 2D convolution followed by Max Pooling layers, and 3 Dense layers at the end of it. This NN had a MSE which was around 0.02, the result wasn't too bad but neither too good compared to the other models. The main drawback of this model was that it <b>couldn't learn long-term dependecies</b>.\n",
        "<br><br>\n",
        "The second model was similar to the one I opted to use, the only difference was that there were <b>no Lambda/Reshape layers</b> and it had <b>1 less LSTM layer</b>, it had less than 1M parameters and it didn't go under 0.01 of MSE.  \n",
        "<br>\n",
        "The structure of this model was the one I used the most, I tried several iteration of it, adding and removing LSTM layers, changing the sizes of kernels/channels, and other changes.\n",
        "<br><br>\n",
        "At last, there was <b>one model that performed nearly as well as the one I adopted</b>, always using the same LSTM formula. The reason why I didn't use this one is simply because it had a <b>slightly worse MSE</b>.\n",
        "<br>Below, you can find the code of the model."
      ]
    },
    {
      "cell_type": "code",
      "execution_count": null,
      "metadata": {
        "id": "uFJylDVbXQ_w"
      },
      "outputs": [],
      "source": [
        "inp = layers.Input(shape=(3,64,64,1))\n",
        "x = layers.ConvLSTM2D(\n",
        "    filters=64,\n",
        "    kernel_size=(7, 7),\n",
        "    padding=\"same\",\n",
        "    return_sequences=True,\n",
        "    activation=\"relu\",\n",
        ")(inp)\n",
        "x = layers.ConvLSTM2D(\n",
        "    filters=64,\n",
        "    kernel_size=(5, 5),\n",
        "    padding=\"same\",\n",
        "    return_sequences=True,\n",
        "    activation=\"relu\",\n",
        ")(x)\n",
        "x = layers.BatchNormalization()(x)\n",
        "x = layers.ConvLSTM2D(\n",
        "    filters=64,\n",
        "    kernel_size=(3, 3),\n",
        "    padding=\"same\",\n",
        "    return_sequences=True,\n",
        "    activation=\"relu\",\n",
        ")(x)\n",
        "x = layers.BatchNormalization()(x)\n",
        "x = layers.ConvLSTM2D(\n",
        "    filters=64,\n",
        "    kernel_size=(3, 3),\n",
        "    padding=\"same\",\n",
        "    return_sequences=True,\n",
        "    activation=\"relu\",\n",
        ")(x)\n",
        "x = layers.BatchNormalization()(x)\n",
        "x = layers.ConvLSTM2D(\n",
        "    filters=64,\n",
        "    kernel_size=(1, 1),\n",
        "    padding=\"same\",\n",
        "    return_sequences=True,\n",
        "    activation=\"relu\",\n",
        ")(x)\n",
        "x = layers.Conv3D(\n",
        "    filters=1, kernel_size=(3, 3, 3), activation=\"sigmoid\", padding=\"same\"\n",
        ")(x)\n",
        "x=layers.Lambda(lambda x: x[:,-1, :, :, :])(x)\n",
        "x=layers.Reshape((1,64,64,1))(x)\n",
        "\n",
        "# Next, we will build the complete model and compile it.\n",
        "model = keras.models.Model(inp, x)"
      ]
    },
    {
      "cell_type": "code",
      "execution_count": null,
      "metadata": {
        "colab": {
          "base_uri": "https://localhost:8080/"
        },
        "id": "WZVs7NYoYmfk",
        "outputId": "c0fe93cc-5ae7-4bcc-9280-6e94621dd029"
      },
      "outputs": [
        {
          "name": "stdout",
          "output_type": "stream",
          "text": [
            "Model: \"model\"\n",
            "_________________________________________________________________\n",
            " Layer (type)                Output Shape              Param #   \n",
            "=================================================================\n",
            " input_1 (InputLayer)        [(None, 3, 64, 64, 1)]    0         \n",
            "                                                                 \n",
            " conv_lstm2d (ConvLSTM2D)    (None, 3, 64, 64, 64)     815616    \n",
            "                                                                 \n",
            " conv_lstm2d_1 (ConvLSTM2D)  (None, 3, 64, 64, 64)     819456    \n",
            "                                                                 \n",
            " batch_normalization (BatchN  (None, 3, 64, 64, 64)    256       \n",
            " ormalization)                                                   \n",
            "                                                                 \n",
            " conv_lstm2d_2 (ConvLSTM2D)  (None, 3, 64, 64, 64)     295168    \n",
            "                                                                 \n",
            " batch_normalization_1 (Batc  (None, 3, 64, 64, 64)    256       \n",
            " hNormalization)                                                 \n",
            "                                                                 \n",
            " conv_lstm2d_3 (ConvLSTM2D)  (None, 3, 64, 64, 64)     295168    \n",
            "                                                                 \n",
            " batch_normalization_2 (Batc  (None, 3, 64, 64, 64)    256       \n",
            " hNormalization)                                                 \n",
            "                                                                 \n",
            " conv_lstm2d_4 (ConvLSTM2D)  (None, 3, 64, 64, 64)     33024     \n",
            "                                                                 \n",
            " conv3d (Conv3D)             (None, 3, 64, 64, 1)      1729      \n",
            "                                                                 \n",
            " lambda (Lambda)             (None, 64, 64, 1)         0         \n",
            "                                                                 \n",
            " reshape (Reshape)           (None, 1, 64, 64, 1)      0         \n",
            "                                                                 \n",
            "=================================================================\n",
            "Total params: 2,260,929\n",
            "Trainable params: 2,260,545\n",
            "Non-trainable params: 384\n",
            "_________________________________________________________________\n"
          ]
        }
      ],
      "source": [
        "model.summary()\n",
        "model.compile(\n",
        "    loss=keras.losses.binary_crossentropy, optimizer=keras.optimizers.Adam(),metrics=[keras.metrics.MeanSquaredError()],\n",
        ")"
      ]
    }
  ],
  "metadata": {
    "accelerator": "GPU",
    "colab": {
      "gpuType": "T4",
      "provenance": []
    },
    "kernelspec": {
      "display_name": "Python 3",
      "language": "python",
      "name": "python3"
    },
    "language_info": {
      "codemirror_mode": {
        "name": "ipython",
        "version": 3
      },
      "file_extension": ".py",
      "mimetype": "text/x-python",
      "name": "python",
      "nbconvert_exporter": "python",
      "pygments_lexer": "ipython3",
      "version": "3.10.10"
    },
    "widgets": {
      "application/vnd.jupyter.widget-state+json": {
        "0736faa51420463aad3f2c235e621e7c": {
          "model_module": "@jupyter-widgets/controls",
          "model_module_version": "1.5.0",
          "model_name": "HTMLModel",
          "state": {
            "_dom_classes": [],
            "_model_module": "@jupyter-widgets/controls",
            "_model_module_version": "1.5.0",
            "_model_name": "HTMLModel",
            "_view_count": null,
            "_view_module": "@jupyter-widgets/controls",
            "_view_module_version": "1.5.0",
            "_view_name": "HTMLView",
            "description": "",
            "description_tooltip": null,
            "layout": "IPY_MODEL_f479bb1bb4f5469193fa86b071f158d8",
            "placeholder": "​",
            "style": "IPY_MODEL_641e0bb4336e4899b02746e913fa6bb4",
            "value": "Dl Completed...: 100%"
          }
        },
        "0ccd05d6bd914d579940ca9a61ed2d2a": {
          "model_module": "@jupyter-widgets/base",
          "model_module_version": "1.2.0",
          "model_name": "LayoutModel",
          "state": {
            "_model_module": "@jupyter-widgets/base",
            "_model_module_version": "1.2.0",
            "_model_name": "LayoutModel",
            "_view_count": null,
            "_view_module": "@jupyter-widgets/base",
            "_view_module_version": "1.2.0",
            "_view_name": "LayoutView",
            "align_content": null,
            "align_items": null,
            "align_self": null,
            "border": null,
            "bottom": null,
            "display": null,
            "flex": null,
            "flex_flow": null,
            "grid_area": null,
            "grid_auto_columns": null,
            "grid_auto_flow": null,
            "grid_auto_rows": null,
            "grid_column": null,
            "grid_gap": null,
            "grid_row": null,
            "grid_template_areas": null,
            "grid_template_columns": null,
            "grid_template_rows": null,
            "height": null,
            "justify_content": null,
            "justify_items": null,
            "left": null,
            "margin": null,
            "max_height": null,
            "max_width": null,
            "min_height": null,
            "min_width": null,
            "object_fit": null,
            "object_position": null,
            "order": null,
            "overflow": null,
            "overflow_x": null,
            "overflow_y": null,
            "padding": null,
            "right": null,
            "top": null,
            "visibility": null,
            "width": null
          }
        },
        "0fd45c57c91f4175bcff2f8f65fe6f79": {
          "model_module": "@jupyter-widgets/base",
          "model_module_version": "1.2.0",
          "model_name": "LayoutModel",
          "state": {
            "_model_module": "@jupyter-widgets/base",
            "_model_module_version": "1.2.0",
            "_model_name": "LayoutModel",
            "_view_count": null,
            "_view_module": "@jupyter-widgets/base",
            "_view_module_version": "1.2.0",
            "_view_name": "LayoutView",
            "align_content": null,
            "align_items": null,
            "align_self": null,
            "border": null,
            "bottom": null,
            "display": null,
            "flex": null,
            "flex_flow": null,
            "grid_area": null,
            "grid_auto_columns": null,
            "grid_auto_flow": null,
            "grid_auto_rows": null,
            "grid_column": null,
            "grid_gap": null,
            "grid_row": null,
            "grid_template_areas": null,
            "grid_template_columns": null,
            "grid_template_rows": null,
            "height": null,
            "justify_content": null,
            "justify_items": null,
            "left": null,
            "margin": null,
            "max_height": null,
            "max_width": null,
            "min_height": null,
            "min_width": null,
            "object_fit": null,
            "object_position": null,
            "order": null,
            "overflow": null,
            "overflow_x": null,
            "overflow_y": null,
            "padding": null,
            "right": null,
            "top": null,
            "visibility": null,
            "width": null
          }
        },
        "1860523d48264425b008e9b04045ae1c": {
          "model_module": "@jupyter-widgets/controls",
          "model_module_version": "1.5.0",
          "model_name": "HTMLModel",
          "state": {
            "_dom_classes": [],
            "_model_module": "@jupyter-widgets/controls",
            "_model_module_version": "1.5.0",
            "_model_name": "HTMLModel",
            "_view_count": null,
            "_view_module": "@jupyter-widgets/controls",
            "_view_module_version": "1.5.0",
            "_view_name": "HTMLView",
            "description": "",
            "description_tooltip": null,
            "layout": "IPY_MODEL_0fd45c57c91f4175bcff2f8f65fe6f79",
            "placeholder": "​",
            "style": "IPY_MODEL_c44841fed0964346a48342ee00ec8645",
            "value": " 1/1 [02:13&lt;00:00, 133.88s/ splits]"
          }
        },
        "1a0708852d5740d48b4e6fe061360766": {
          "model_module": "@jupyter-widgets/controls",
          "model_module_version": "1.5.0",
          "model_name": "HTMLModel",
          "state": {
            "_dom_classes": [],
            "_model_module": "@jupyter-widgets/controls",
            "_model_module_version": "1.5.0",
            "_model_name": "HTMLModel",
            "_view_count": null,
            "_view_module": "@jupyter-widgets/controls",
            "_view_module_version": "1.5.0",
            "_view_name": "HTMLView",
            "description": "",
            "description_tooltip": null,
            "layout": "IPY_MODEL_1f5075dda54d45b9847f94cd707579f7",
            "placeholder": "​",
            "style": "IPY_MODEL_e172714c5f614dd690a4b807f249a315",
            "value": "Generating splits...: 100%"
          }
        },
        "1d30c24c23284e519626e28b0a5ee07e": {
          "model_module": "@jupyter-widgets/controls",
          "model_module_version": "1.5.0",
          "model_name": "HTMLModel",
          "state": {
            "_dom_classes": [],
            "_model_module": "@jupyter-widgets/controls",
            "_model_module_version": "1.5.0",
            "_model_name": "HTMLModel",
            "_view_count": null,
            "_view_module": "@jupyter-widgets/controls",
            "_view_module_version": "1.5.0",
            "_view_name": "HTMLView",
            "description": "",
            "description_tooltip": null,
            "layout": "IPY_MODEL_8be5c88c82e04be2b16c6d0bd82f421f",
            "placeholder": "​",
            "style": "IPY_MODEL_7d98caad32a44ec5876876b005f09044",
            "value": "Generating test examples...: 100%"
          }
        },
        "1f13476c9aed405fad095af2c1a1b815": {
          "model_module": "@jupyter-widgets/base",
          "model_module_version": "1.2.0",
          "model_name": "LayoutModel",
          "state": {
            "_model_module": "@jupyter-widgets/base",
            "_model_module_version": "1.2.0",
            "_model_name": "LayoutModel",
            "_view_count": null,
            "_view_module": "@jupyter-widgets/base",
            "_view_module_version": "1.2.0",
            "_view_name": "LayoutView",
            "align_content": null,
            "align_items": null,
            "align_self": null,
            "border": null,
            "bottom": null,
            "display": null,
            "flex": null,
            "flex_flow": null,
            "grid_area": null,
            "grid_auto_columns": null,
            "grid_auto_flow": null,
            "grid_auto_rows": null,
            "grid_column": null,
            "grid_gap": null,
            "grid_row": null,
            "grid_template_areas": null,
            "grid_template_columns": null,
            "grid_template_rows": null,
            "height": null,
            "justify_content": null,
            "justify_items": null,
            "left": null,
            "margin": null,
            "max_height": null,
            "max_width": null,
            "min_height": null,
            "min_width": null,
            "object_fit": null,
            "object_position": null,
            "order": null,
            "overflow": null,
            "overflow_x": null,
            "overflow_y": null,
            "padding": null,
            "right": null,
            "top": null,
            "visibility": null,
            "width": null
          }
        },
        "1f5075dda54d45b9847f94cd707579f7": {
          "model_module": "@jupyter-widgets/base",
          "model_module_version": "1.2.0",
          "model_name": "LayoutModel",
          "state": {
            "_model_module": "@jupyter-widgets/base",
            "_model_module_version": "1.2.0",
            "_model_name": "LayoutModel",
            "_view_count": null,
            "_view_module": "@jupyter-widgets/base",
            "_view_module_version": "1.2.0",
            "_view_name": "LayoutView",
            "align_content": null,
            "align_items": null,
            "align_self": null,
            "border": null,
            "bottom": null,
            "display": null,
            "flex": null,
            "flex_flow": null,
            "grid_area": null,
            "grid_auto_columns": null,
            "grid_auto_flow": null,
            "grid_auto_rows": null,
            "grid_column": null,
            "grid_gap": null,
            "grid_row": null,
            "grid_template_areas": null,
            "grid_template_columns": null,
            "grid_template_rows": null,
            "height": null,
            "justify_content": null,
            "justify_items": null,
            "left": null,
            "margin": null,
            "max_height": null,
            "max_width": null,
            "min_height": null,
            "min_width": null,
            "object_fit": null,
            "object_position": null,
            "order": null,
            "overflow": null,
            "overflow_x": null,
            "overflow_y": null,
            "padding": null,
            "right": null,
            "top": null,
            "visibility": null,
            "width": null
          }
        },
        "24e6545fc66a40308520f37a9923baf8": {
          "model_module": "@jupyter-widgets/controls",
          "model_module_version": "1.5.0",
          "model_name": "HTMLModel",
          "state": {
            "_dom_classes": [],
            "_model_module": "@jupyter-widgets/controls",
            "_model_module_version": "1.5.0",
            "_model_name": "HTMLModel",
            "_view_count": null,
            "_view_module": "@jupyter-widgets/controls",
            "_view_module_version": "1.5.0",
            "_view_name": "HTMLView",
            "description": "",
            "description_tooltip": null,
            "layout": "IPY_MODEL_c77e6a5cc2ac457aafefae04567eb782",
            "placeholder": "​",
            "style": "IPY_MODEL_fb3dc8e9bacc48568a17de938be2287b",
            "value": " 4908/10000 [00:00&lt;00:00, 49067.41 examples/s]"
          }
        },
        "275476d73f60439b8d6de67d2f1d66f7": {
          "model_module": "@jupyter-widgets/base",
          "model_module_version": "1.2.0",
          "model_name": "LayoutModel",
          "state": {
            "_model_module": "@jupyter-widgets/base",
            "_model_module_version": "1.2.0",
            "_model_name": "LayoutModel",
            "_view_count": null,
            "_view_module": "@jupyter-widgets/base",
            "_view_module_version": "1.2.0",
            "_view_name": "LayoutView",
            "align_content": null,
            "align_items": null,
            "align_self": null,
            "border": null,
            "bottom": null,
            "display": null,
            "flex": null,
            "flex_flow": null,
            "grid_area": null,
            "grid_auto_columns": null,
            "grid_auto_flow": null,
            "grid_auto_rows": null,
            "grid_column": null,
            "grid_gap": null,
            "grid_row": null,
            "grid_template_areas": null,
            "grid_template_columns": null,
            "grid_template_rows": null,
            "height": null,
            "justify_content": null,
            "justify_items": null,
            "left": null,
            "margin": null,
            "max_height": null,
            "max_width": null,
            "min_height": null,
            "min_width": null,
            "object_fit": null,
            "object_position": null,
            "order": null,
            "overflow": null,
            "overflow_x": null,
            "overflow_y": null,
            "padding": null,
            "right": null,
            "top": null,
            "visibility": null,
            "width": "20px"
          }
        },
        "2db6ce1677b74f84925f784fc5a301bd": {
          "model_module": "@jupyter-widgets/controls",
          "model_module_version": "1.5.0",
          "model_name": "FloatProgressModel",
          "state": {
            "_dom_classes": [],
            "_model_module": "@jupyter-widgets/controls",
            "_model_module_version": "1.5.0",
            "_model_name": "FloatProgressModel",
            "_view_count": null,
            "_view_module": "@jupyter-widgets/controls",
            "_view_module_version": "1.5.0",
            "_view_name": "ProgressView",
            "bar_style": "",
            "description": "",
            "description_tooltip": null,
            "layout": "IPY_MODEL_1f13476c9aed405fad095af2c1a1b815",
            "max": 10000,
            "min": 0,
            "orientation": "horizontal",
            "style": "IPY_MODEL_5366c84ef4b24615a2256124b387d501",
            "value": 10000
          }
        },
        "2dfd04e235c044bb90349e1dbb79b46c": {
          "model_module": "@jupyter-widgets/controls",
          "model_module_version": "1.5.0",
          "model_name": "HBoxModel",
          "state": {
            "_dom_classes": [],
            "_model_module": "@jupyter-widgets/controls",
            "_model_module_version": "1.5.0",
            "_model_name": "HBoxModel",
            "_view_count": null,
            "_view_module": "@jupyter-widgets/controls",
            "_view_module_version": "1.5.0",
            "_view_name": "HBoxView",
            "box_style": "",
            "children": [
              "IPY_MODEL_1a0708852d5740d48b4e6fe061360766",
              "IPY_MODEL_bdb110cce936491ca033df90133398c0",
              "IPY_MODEL_1860523d48264425b008e9b04045ae1c"
            ],
            "layout": "IPY_MODEL_f73dc6bc2aa04add9b7a3d26ad2307c7"
          }
        },
        "34927be62bd94dfe837fca409b92b95b": {
          "model_module": "@jupyter-widgets/base",
          "model_module_version": "1.2.0",
          "model_name": "LayoutModel",
          "state": {
            "_model_module": "@jupyter-widgets/base",
            "_model_module_version": "1.2.0",
            "_model_name": "LayoutModel",
            "_view_count": null,
            "_view_module": "@jupyter-widgets/base",
            "_view_module_version": "1.2.0",
            "_view_name": "LayoutView",
            "align_content": null,
            "align_items": null,
            "align_self": null,
            "border": null,
            "bottom": null,
            "display": null,
            "flex": null,
            "flex_flow": null,
            "grid_area": null,
            "grid_auto_columns": null,
            "grid_auto_flow": null,
            "grid_auto_rows": null,
            "grid_column": null,
            "grid_gap": null,
            "grid_row": null,
            "grid_template_areas": null,
            "grid_template_columns": null,
            "grid_template_rows": null,
            "height": null,
            "justify_content": null,
            "justify_items": null,
            "left": null,
            "margin": null,
            "max_height": null,
            "max_width": null,
            "min_height": null,
            "min_width": null,
            "object_fit": null,
            "object_position": null,
            "order": null,
            "overflow": null,
            "overflow_x": null,
            "overflow_y": null,
            "padding": null,
            "right": null,
            "top": null,
            "visibility": "hidden",
            "width": null
          }
        },
        "365ecbb4b5be4d9eb4ec40d1b82220fc": {
          "model_module": "@jupyter-widgets/controls",
          "model_module_version": "1.5.0",
          "model_name": "HTMLModel",
          "state": {
            "_dom_classes": [],
            "_model_module": "@jupyter-widgets/controls",
            "_model_module_version": "1.5.0",
            "_model_name": "HTMLModel",
            "_view_count": null,
            "_view_module": "@jupyter-widgets/controls",
            "_view_module_version": "1.5.0",
            "_view_name": "HTMLView",
            "description": "",
            "description_tooltip": null,
            "layout": "IPY_MODEL_e7c590a2f2ce48a2b2e22c09d86fdf64",
            "placeholder": "​",
            "style": "IPY_MODEL_c2b08ec92e30432abdd2540523d24b33",
            "value": " 781/781 [00:18&lt;00:00, 43.84 MiB/s]"
          }
        },
        "3e13e79fed38441dbae5ef8d219fc4cc": {
          "model_module": "@jupyter-widgets/controls",
          "model_module_version": "1.5.0",
          "model_name": "HTMLModel",
          "state": {
            "_dom_classes": [],
            "_model_module": "@jupyter-widgets/controls",
            "_model_module_version": "1.5.0",
            "_model_name": "HTMLModel",
            "_view_count": null,
            "_view_module": "@jupyter-widgets/controls",
            "_view_module_version": "1.5.0",
            "_view_name": "HTMLView",
            "description": "",
            "description_tooltip": null,
            "layout": "IPY_MODEL_40ab4020c4b040ea8123b3b0d83eb292",
            "placeholder": "​",
            "style": "IPY_MODEL_e1e0a9f07915413fab1cd70373d0bcae",
            "value": " 1/1 [00:18&lt;00:00, 18.79s/ url]"
          }
        },
        "40ab4020c4b040ea8123b3b0d83eb292": {
          "model_module": "@jupyter-widgets/base",
          "model_module_version": "1.2.0",
          "model_name": "LayoutModel",
          "state": {
            "_model_module": "@jupyter-widgets/base",
            "_model_module_version": "1.2.0",
            "_model_name": "LayoutModel",
            "_view_count": null,
            "_view_module": "@jupyter-widgets/base",
            "_view_module_version": "1.2.0",
            "_view_name": "LayoutView",
            "align_content": null,
            "align_items": null,
            "align_self": null,
            "border": null,
            "bottom": null,
            "display": null,
            "flex": null,
            "flex_flow": null,
            "grid_area": null,
            "grid_auto_columns": null,
            "grid_auto_flow": null,
            "grid_auto_rows": null,
            "grid_column": null,
            "grid_gap": null,
            "grid_row": null,
            "grid_template_areas": null,
            "grid_template_columns": null,
            "grid_template_rows": null,
            "height": null,
            "justify_content": null,
            "justify_items": null,
            "left": null,
            "margin": null,
            "max_height": null,
            "max_width": null,
            "min_height": null,
            "min_width": null,
            "object_fit": null,
            "object_position": null,
            "order": null,
            "overflow": null,
            "overflow_x": null,
            "overflow_y": null,
            "padding": null,
            "right": null,
            "top": null,
            "visibility": null,
            "width": null
          }
        },
        "4308b1db94fa4fcb9baaa75531705b9b": {
          "model_module": "@jupyter-widgets/base",
          "model_module_version": "1.2.0",
          "model_name": "LayoutModel",
          "state": {
            "_model_module": "@jupyter-widgets/base",
            "_model_module_version": "1.2.0",
            "_model_name": "LayoutModel",
            "_view_count": null,
            "_view_module": "@jupyter-widgets/base",
            "_view_module_version": "1.2.0",
            "_view_name": "LayoutView",
            "align_content": null,
            "align_items": null,
            "align_self": null,
            "border": null,
            "bottom": null,
            "display": null,
            "flex": null,
            "flex_flow": null,
            "grid_area": null,
            "grid_auto_columns": null,
            "grid_auto_flow": null,
            "grid_auto_rows": null,
            "grid_column": null,
            "grid_gap": null,
            "grid_row": null,
            "grid_template_areas": null,
            "grid_template_columns": null,
            "grid_template_rows": null,
            "height": null,
            "justify_content": null,
            "justify_items": null,
            "left": null,
            "margin": null,
            "max_height": null,
            "max_width": null,
            "min_height": null,
            "min_width": null,
            "object_fit": null,
            "object_position": null,
            "order": null,
            "overflow": null,
            "overflow_x": null,
            "overflow_y": null,
            "padding": null,
            "right": null,
            "top": null,
            "visibility": null,
            "width": null
          }
        },
        "44a9c104077940818c25bee1e7cf9664": {
          "model_module": "@jupyter-widgets/controls",
          "model_module_version": "1.5.0",
          "model_name": "ProgressStyleModel",
          "state": {
            "_model_module": "@jupyter-widgets/controls",
            "_model_module_version": "1.5.0",
            "_model_name": "ProgressStyleModel",
            "_view_count": null,
            "_view_module": "@jupyter-widgets/base",
            "_view_module_version": "1.2.0",
            "_view_name": "StyleView",
            "bar_color": null,
            "description_width": ""
          }
        },
        "47d354cd1cd74baf9b83e6f291d9d242": {
          "model_module": "@jupyter-widgets/base",
          "model_module_version": "1.2.0",
          "model_name": "LayoutModel",
          "state": {
            "_model_module": "@jupyter-widgets/base",
            "_model_module_version": "1.2.0",
            "_model_name": "LayoutModel",
            "_view_count": null,
            "_view_module": "@jupyter-widgets/base",
            "_view_module_version": "1.2.0",
            "_view_name": "LayoutView",
            "align_content": null,
            "align_items": null,
            "align_self": null,
            "border": null,
            "bottom": null,
            "display": null,
            "flex": null,
            "flex_flow": null,
            "grid_area": null,
            "grid_auto_columns": null,
            "grid_auto_flow": null,
            "grid_auto_rows": null,
            "grid_column": null,
            "grid_gap": null,
            "grid_row": null,
            "grid_template_areas": null,
            "grid_template_columns": null,
            "grid_template_rows": null,
            "height": null,
            "justify_content": null,
            "justify_items": null,
            "left": null,
            "margin": null,
            "max_height": null,
            "max_width": null,
            "min_height": null,
            "min_width": null,
            "object_fit": null,
            "object_position": null,
            "order": null,
            "overflow": null,
            "overflow_x": null,
            "overflow_y": null,
            "padding": null,
            "right": null,
            "top": null,
            "visibility": null,
            "width": null
          }
        },
        "48caf57838bd40afa4ecd8886006a300": {
          "model_module": "@jupyter-widgets/base",
          "model_module_version": "1.2.0",
          "model_name": "LayoutModel",
          "state": {
            "_model_module": "@jupyter-widgets/base",
            "_model_module_version": "1.2.0",
            "_model_name": "LayoutModel",
            "_view_count": null,
            "_view_module": "@jupyter-widgets/base",
            "_view_module_version": "1.2.0",
            "_view_name": "LayoutView",
            "align_content": null,
            "align_items": null,
            "align_self": null,
            "border": null,
            "bottom": null,
            "display": null,
            "flex": null,
            "flex_flow": null,
            "grid_area": null,
            "grid_auto_columns": null,
            "grid_auto_flow": null,
            "grid_auto_rows": null,
            "grid_column": null,
            "grid_gap": null,
            "grid_row": null,
            "grid_template_areas": null,
            "grid_template_columns": null,
            "grid_template_rows": null,
            "height": null,
            "justify_content": null,
            "justify_items": null,
            "left": null,
            "margin": null,
            "max_height": null,
            "max_width": null,
            "min_height": null,
            "min_width": null,
            "object_fit": null,
            "object_position": null,
            "order": null,
            "overflow": null,
            "overflow_x": null,
            "overflow_y": null,
            "padding": null,
            "right": null,
            "top": null,
            "visibility": "hidden",
            "width": null
          }
        },
        "4b779c9581f849f3b8a6d2265d0ed1f0": {
          "model_module": "@jupyter-widgets/controls",
          "model_module_version": "1.5.0",
          "model_name": "HTMLModel",
          "state": {
            "_dom_classes": [],
            "_model_module": "@jupyter-widgets/controls",
            "_model_module_version": "1.5.0",
            "_model_name": "HTMLModel",
            "_view_count": null,
            "_view_module": "@jupyter-widgets/controls",
            "_view_module_version": "1.5.0",
            "_view_name": "HTMLView",
            "description": "",
            "description_tooltip": null,
            "layout": "IPY_MODEL_47d354cd1cd74baf9b83e6f291d9d242",
            "placeholder": "​",
            "style": "IPY_MODEL_7679f77967ad4a0f8c3c0d3e0b29fda9",
            "value": "Dl Size...: 100%"
          }
        },
        "4bb08a0624cf42688282f7d639fad88a": {
          "model_module": "@jupyter-widgets/controls",
          "model_module_version": "1.5.0",
          "model_name": "ProgressStyleModel",
          "state": {
            "_model_module": "@jupyter-widgets/controls",
            "_model_module_version": "1.5.0",
            "_model_name": "ProgressStyleModel",
            "_view_count": null,
            "_view_module": "@jupyter-widgets/base",
            "_view_module_version": "1.2.0",
            "_view_name": "StyleView",
            "bar_color": null,
            "description_width": ""
          }
        },
        "4cfb2c741eec45b69c50f04b651f3eb7": {
          "model_module": "@jupyter-widgets/controls",
          "model_module_version": "1.5.0",
          "model_name": "HTMLModel",
          "state": {
            "_dom_classes": [],
            "_model_module": "@jupyter-widgets/controls",
            "_model_module_version": "1.5.0",
            "_model_name": "HTMLModel",
            "_view_count": null,
            "_view_module": "@jupyter-widgets/controls",
            "_view_module_version": "1.5.0",
            "_view_name": "HTMLView",
            "description": "",
            "description_tooltip": null,
            "layout": "IPY_MODEL_0ccd05d6bd914d579940ca9a61ed2d2a",
            "placeholder": "​",
            "style": "IPY_MODEL_a8c2831949eb4fdf9aec59edbe209761",
            "value": "Shuffling /root/tensorflow_datasets/moving_mnist/1.0.0.incompleteOJ9J4E/moving_mnist-test.tfrecord*...:  49%"
          }
        },
        "5366c84ef4b24615a2256124b387d501": {
          "model_module": "@jupyter-widgets/controls",
          "model_module_version": "1.5.0",
          "model_name": "ProgressStyleModel",
          "state": {
            "_model_module": "@jupyter-widgets/controls",
            "_model_module_version": "1.5.0",
            "_model_name": "ProgressStyleModel",
            "_view_count": null,
            "_view_module": "@jupyter-widgets/base",
            "_view_module_version": "1.2.0",
            "_view_name": "StyleView",
            "bar_color": null,
            "description_width": ""
          }
        },
        "584566134fa447aeb8ad79603e5ed5ce": {
          "model_module": "@jupyter-widgets/controls",
          "model_module_version": "1.5.0",
          "model_name": "DescriptionStyleModel",
          "state": {
            "_model_module": "@jupyter-widgets/controls",
            "_model_module_version": "1.5.0",
            "_model_name": "DescriptionStyleModel",
            "_view_count": null,
            "_view_module": "@jupyter-widgets/base",
            "_view_module_version": "1.2.0",
            "_view_name": "StyleView",
            "description_width": ""
          }
        },
        "5ee6f55283d1483596e31d53f9690283": {
          "model_module": "@jupyter-widgets/controls",
          "model_module_version": "1.5.0",
          "model_name": "HBoxModel",
          "state": {
            "_dom_classes": [],
            "_model_module": "@jupyter-widgets/controls",
            "_model_module_version": "1.5.0",
            "_model_name": "HBoxModel",
            "_view_count": null,
            "_view_module": "@jupyter-widgets/controls",
            "_view_module_version": "1.5.0",
            "_view_name": "HBoxView",
            "box_style": "",
            "children": [
              "IPY_MODEL_0736faa51420463aad3f2c235e621e7c",
              "IPY_MODEL_a07855c71f2f45fe85f3017c01eeb265",
              "IPY_MODEL_3e13e79fed38441dbae5ef8d219fc4cc"
            ],
            "layout": "IPY_MODEL_a46f191cca524639bd2cab3d9161bf75"
          }
        },
        "641e0bb4336e4899b02746e913fa6bb4": {
          "model_module": "@jupyter-widgets/controls",
          "model_module_version": "1.5.0",
          "model_name": "DescriptionStyleModel",
          "state": {
            "_model_module": "@jupyter-widgets/controls",
            "_model_module_version": "1.5.0",
            "_model_name": "DescriptionStyleModel",
            "_view_count": null,
            "_view_module": "@jupyter-widgets/base",
            "_view_module_version": "1.2.0",
            "_view_name": "StyleView",
            "description_width": ""
          }
        },
        "6eb706ee60484c13bb611221f87ca836": {
          "model_module": "@jupyter-widgets/controls",
          "model_module_version": "1.5.0",
          "model_name": "ProgressStyleModel",
          "state": {
            "_model_module": "@jupyter-widgets/controls",
            "_model_module_version": "1.5.0",
            "_model_name": "ProgressStyleModel",
            "_view_count": null,
            "_view_module": "@jupyter-widgets/base",
            "_view_module_version": "1.2.0",
            "_view_name": "StyleView",
            "bar_color": null,
            "description_width": ""
          }
        },
        "7679f77967ad4a0f8c3c0d3e0b29fda9": {
          "model_module": "@jupyter-widgets/controls",
          "model_module_version": "1.5.0",
          "model_name": "DescriptionStyleModel",
          "state": {
            "_model_module": "@jupyter-widgets/controls",
            "_model_module_version": "1.5.0",
            "_model_name": "DescriptionStyleModel",
            "_view_count": null,
            "_view_module": "@jupyter-widgets/base",
            "_view_module_version": "1.2.0",
            "_view_name": "StyleView",
            "description_width": ""
          }
        },
        "7d98caad32a44ec5876876b005f09044": {
          "model_module": "@jupyter-widgets/controls",
          "model_module_version": "1.5.0",
          "model_name": "DescriptionStyleModel",
          "state": {
            "_model_module": "@jupyter-widgets/controls",
            "_model_module_version": "1.5.0",
            "_model_name": "DescriptionStyleModel",
            "_view_count": null,
            "_view_module": "@jupyter-widgets/base",
            "_view_module_version": "1.2.0",
            "_view_name": "StyleView",
            "description_width": ""
          }
        },
        "8076ca47dc6a4a86b129d1d7e881bbdf": {
          "model_module": "@jupyter-widgets/base",
          "model_module_version": "1.2.0",
          "model_name": "LayoutModel",
          "state": {
            "_model_module": "@jupyter-widgets/base",
            "_model_module_version": "1.2.0",
            "_model_name": "LayoutModel",
            "_view_count": null,
            "_view_module": "@jupyter-widgets/base",
            "_view_module_version": "1.2.0",
            "_view_name": "LayoutView",
            "align_content": null,
            "align_items": null,
            "align_self": null,
            "border": null,
            "bottom": null,
            "display": null,
            "flex": null,
            "flex_flow": null,
            "grid_area": null,
            "grid_auto_columns": null,
            "grid_auto_flow": null,
            "grid_auto_rows": null,
            "grid_column": null,
            "grid_gap": null,
            "grid_row": null,
            "grid_template_areas": null,
            "grid_template_columns": null,
            "grid_template_rows": null,
            "height": null,
            "justify_content": null,
            "justify_items": null,
            "left": null,
            "margin": null,
            "max_height": null,
            "max_width": null,
            "min_height": null,
            "min_width": null,
            "object_fit": null,
            "object_position": null,
            "order": null,
            "overflow": null,
            "overflow_x": null,
            "overflow_y": null,
            "padding": null,
            "right": null,
            "top": null,
            "visibility": null,
            "width": null
          }
        },
        "8be5c88c82e04be2b16c6d0bd82f421f": {
          "model_module": "@jupyter-widgets/base",
          "model_module_version": "1.2.0",
          "model_name": "LayoutModel",
          "state": {
            "_model_module": "@jupyter-widgets/base",
            "_model_module_version": "1.2.0",
            "_model_name": "LayoutModel",
            "_view_count": null,
            "_view_module": "@jupyter-widgets/base",
            "_view_module_version": "1.2.0",
            "_view_name": "LayoutView",
            "align_content": null,
            "align_items": null,
            "align_self": null,
            "border": null,
            "bottom": null,
            "display": null,
            "flex": null,
            "flex_flow": null,
            "grid_area": null,
            "grid_auto_columns": null,
            "grid_auto_flow": null,
            "grid_auto_rows": null,
            "grid_column": null,
            "grid_gap": null,
            "grid_row": null,
            "grid_template_areas": null,
            "grid_template_columns": null,
            "grid_template_rows": null,
            "height": null,
            "justify_content": null,
            "justify_items": null,
            "left": null,
            "margin": null,
            "max_height": null,
            "max_width": null,
            "min_height": null,
            "min_width": null,
            "object_fit": null,
            "object_position": null,
            "order": null,
            "overflow": null,
            "overflow_x": null,
            "overflow_y": null,
            "padding": null,
            "right": null,
            "top": null,
            "visibility": null,
            "width": null
          }
        },
        "8e83b23105fe468eadaa16ed749a96b5": {
          "model_module": "@jupyter-widgets/controls",
          "model_module_version": "1.5.0",
          "model_name": "ProgressStyleModel",
          "state": {
            "_model_module": "@jupyter-widgets/controls",
            "_model_module_version": "1.5.0",
            "_model_name": "ProgressStyleModel",
            "_view_count": null,
            "_view_module": "@jupyter-widgets/base",
            "_view_module_version": "1.2.0",
            "_view_name": "StyleView",
            "bar_color": null,
            "description_width": ""
          }
        },
        "973b891a5c454fba8156a5649f15e78d": {
          "model_module": "@jupyter-widgets/base",
          "model_module_version": "1.2.0",
          "model_name": "LayoutModel",
          "state": {
            "_model_module": "@jupyter-widgets/base",
            "_model_module_version": "1.2.0",
            "_model_name": "LayoutModel",
            "_view_count": null,
            "_view_module": "@jupyter-widgets/base",
            "_view_module_version": "1.2.0",
            "_view_name": "LayoutView",
            "align_content": null,
            "align_items": null,
            "align_self": null,
            "border": null,
            "bottom": null,
            "display": null,
            "flex": null,
            "flex_flow": null,
            "grid_area": null,
            "grid_auto_columns": null,
            "grid_auto_flow": null,
            "grid_auto_rows": null,
            "grid_column": null,
            "grid_gap": null,
            "grid_row": null,
            "grid_template_areas": null,
            "grid_template_columns": null,
            "grid_template_rows": null,
            "height": null,
            "justify_content": null,
            "justify_items": null,
            "left": null,
            "margin": null,
            "max_height": null,
            "max_width": null,
            "min_height": null,
            "min_width": null,
            "object_fit": null,
            "object_position": null,
            "order": null,
            "overflow": null,
            "overflow_x": null,
            "overflow_y": null,
            "padding": null,
            "right": null,
            "top": null,
            "visibility": null,
            "width": null
          }
        },
        "a07855c71f2f45fe85f3017c01eeb265": {
          "model_module": "@jupyter-widgets/controls",
          "model_module_version": "1.5.0",
          "model_name": "FloatProgressModel",
          "state": {
            "_dom_classes": [],
            "_model_module": "@jupyter-widgets/controls",
            "_model_module_version": "1.5.0",
            "_model_name": "FloatProgressModel",
            "_view_count": null,
            "_view_module": "@jupyter-widgets/controls",
            "_view_module_version": "1.5.0",
            "_view_name": "ProgressView",
            "bar_style": "success",
            "description": "",
            "description_tooltip": null,
            "layout": "IPY_MODEL_275476d73f60439b8d6de67d2f1d66f7",
            "max": 1,
            "min": 0,
            "orientation": "horizontal",
            "style": "IPY_MODEL_8e83b23105fe468eadaa16ed749a96b5",
            "value": 1
          }
        },
        "a46f191cca524639bd2cab3d9161bf75": {
          "model_module": "@jupyter-widgets/base",
          "model_module_version": "1.2.0",
          "model_name": "LayoutModel",
          "state": {
            "_model_module": "@jupyter-widgets/base",
            "_model_module_version": "1.2.0",
            "_model_name": "LayoutModel",
            "_view_count": null,
            "_view_module": "@jupyter-widgets/base",
            "_view_module_version": "1.2.0",
            "_view_name": "LayoutView",
            "align_content": null,
            "align_items": null,
            "align_self": null,
            "border": null,
            "bottom": null,
            "display": null,
            "flex": null,
            "flex_flow": null,
            "grid_area": null,
            "grid_auto_columns": null,
            "grid_auto_flow": null,
            "grid_auto_rows": null,
            "grid_column": null,
            "grid_gap": null,
            "grid_row": null,
            "grid_template_areas": null,
            "grid_template_columns": null,
            "grid_template_rows": null,
            "height": null,
            "justify_content": null,
            "justify_items": null,
            "left": null,
            "margin": null,
            "max_height": null,
            "max_width": null,
            "min_height": null,
            "min_width": null,
            "object_fit": null,
            "object_position": null,
            "order": null,
            "overflow": null,
            "overflow_x": null,
            "overflow_y": null,
            "padding": null,
            "right": null,
            "top": null,
            "visibility": null,
            "width": null
          }
        },
        "a8c2831949eb4fdf9aec59edbe209761": {
          "model_module": "@jupyter-widgets/controls",
          "model_module_version": "1.5.0",
          "model_name": "DescriptionStyleModel",
          "state": {
            "_model_module": "@jupyter-widgets/controls",
            "_model_module_version": "1.5.0",
            "_model_name": "DescriptionStyleModel",
            "_view_count": null,
            "_view_module": "@jupyter-widgets/base",
            "_view_module_version": "1.2.0",
            "_view_name": "StyleView",
            "description_width": ""
          }
        },
        "aedfb20c107b43b1af3004b11ec2373d": {
          "model_module": "@jupyter-widgets/base",
          "model_module_version": "1.2.0",
          "model_name": "LayoutModel",
          "state": {
            "_model_module": "@jupyter-widgets/base",
            "_model_module_version": "1.2.0",
            "_model_name": "LayoutModel",
            "_view_count": null,
            "_view_module": "@jupyter-widgets/base",
            "_view_module_version": "1.2.0",
            "_view_name": "LayoutView",
            "align_content": null,
            "align_items": null,
            "align_self": null,
            "border": null,
            "bottom": null,
            "display": null,
            "flex": null,
            "flex_flow": null,
            "grid_area": null,
            "grid_auto_columns": null,
            "grid_auto_flow": null,
            "grid_auto_rows": null,
            "grid_column": null,
            "grid_gap": null,
            "grid_row": null,
            "grid_template_areas": null,
            "grid_template_columns": null,
            "grid_template_rows": null,
            "height": null,
            "justify_content": null,
            "justify_items": null,
            "left": null,
            "margin": null,
            "max_height": null,
            "max_width": null,
            "min_height": null,
            "min_width": null,
            "object_fit": null,
            "object_position": null,
            "order": null,
            "overflow": null,
            "overflow_x": null,
            "overflow_y": null,
            "padding": null,
            "right": null,
            "top": null,
            "visibility": null,
            "width": null
          }
        },
        "bdb110cce936491ca033df90133398c0": {
          "model_module": "@jupyter-widgets/controls",
          "model_module_version": "1.5.0",
          "model_name": "FloatProgressModel",
          "state": {
            "_dom_classes": [],
            "_model_module": "@jupyter-widgets/controls",
            "_model_module_version": "1.5.0",
            "_model_name": "FloatProgressModel",
            "_view_count": null,
            "_view_module": "@jupyter-widgets/controls",
            "_view_module_version": "1.5.0",
            "_view_name": "ProgressView",
            "bar_style": "",
            "description": "",
            "description_tooltip": null,
            "layout": "IPY_MODEL_aedfb20c107b43b1af3004b11ec2373d",
            "max": 1,
            "min": 0,
            "orientation": "horizontal",
            "style": "IPY_MODEL_4bb08a0624cf42688282f7d639fad88a",
            "value": 1
          }
        },
        "be4c8ffb053049fc8a1b14ab530ad9d7": {
          "model_module": "@jupyter-widgets/controls",
          "model_module_version": "1.5.0",
          "model_name": "HTMLModel",
          "state": {
            "_dom_classes": [],
            "_model_module": "@jupyter-widgets/controls",
            "_model_module_version": "1.5.0",
            "_model_name": "HTMLModel",
            "_view_count": null,
            "_view_module": "@jupyter-widgets/controls",
            "_view_module_version": "1.5.0",
            "_view_name": "HTMLView",
            "description": "",
            "description_tooltip": null,
            "layout": "IPY_MODEL_4308b1db94fa4fcb9baaa75531705b9b",
            "placeholder": "​",
            "style": "IPY_MODEL_584566134fa447aeb8ad79603e5ed5ce",
            "value": " 9999/10000 [02:13&lt;00:00, 81.04 examples/s]"
          }
        },
        "c2b08ec92e30432abdd2540523d24b33": {
          "model_module": "@jupyter-widgets/controls",
          "model_module_version": "1.5.0",
          "model_name": "DescriptionStyleModel",
          "state": {
            "_model_module": "@jupyter-widgets/controls",
            "_model_module_version": "1.5.0",
            "_model_name": "DescriptionStyleModel",
            "_view_count": null,
            "_view_module": "@jupyter-widgets/base",
            "_view_module_version": "1.2.0",
            "_view_name": "StyleView",
            "description_width": ""
          }
        },
        "c44841fed0964346a48342ee00ec8645": {
          "model_module": "@jupyter-widgets/controls",
          "model_module_version": "1.5.0",
          "model_name": "DescriptionStyleModel",
          "state": {
            "_model_module": "@jupyter-widgets/controls",
            "_model_module_version": "1.5.0",
            "_model_name": "DescriptionStyleModel",
            "_view_count": null,
            "_view_module": "@jupyter-widgets/base",
            "_view_module_version": "1.2.0",
            "_view_name": "StyleView",
            "description_width": ""
          }
        },
        "c7047ea65b994a1d98d83b195754d249": {
          "model_module": "@jupyter-widgets/controls",
          "model_module_version": "1.5.0",
          "model_name": "HBoxModel",
          "state": {
            "_dom_classes": [],
            "_model_module": "@jupyter-widgets/controls",
            "_model_module_version": "1.5.0",
            "_model_name": "HBoxModel",
            "_view_count": null,
            "_view_module": "@jupyter-widgets/controls",
            "_view_module_version": "1.5.0",
            "_view_name": "HBoxView",
            "box_style": "",
            "children": [
              "IPY_MODEL_1d30c24c23284e519626e28b0a5ee07e",
              "IPY_MODEL_2db6ce1677b74f84925f784fc5a301bd",
              "IPY_MODEL_be4c8ffb053049fc8a1b14ab530ad9d7"
            ],
            "layout": "IPY_MODEL_48caf57838bd40afa4ecd8886006a300"
          }
        },
        "c77e6a5cc2ac457aafefae04567eb782": {
          "model_module": "@jupyter-widgets/base",
          "model_module_version": "1.2.0",
          "model_name": "LayoutModel",
          "state": {
            "_model_module": "@jupyter-widgets/base",
            "_model_module_version": "1.2.0",
            "_model_name": "LayoutModel",
            "_view_count": null,
            "_view_module": "@jupyter-widgets/base",
            "_view_module_version": "1.2.0",
            "_view_name": "LayoutView",
            "align_content": null,
            "align_items": null,
            "align_self": null,
            "border": null,
            "bottom": null,
            "display": null,
            "flex": null,
            "flex_flow": null,
            "grid_area": null,
            "grid_auto_columns": null,
            "grid_auto_flow": null,
            "grid_auto_rows": null,
            "grid_column": null,
            "grid_gap": null,
            "grid_row": null,
            "grid_template_areas": null,
            "grid_template_columns": null,
            "grid_template_rows": null,
            "height": null,
            "justify_content": null,
            "justify_items": null,
            "left": null,
            "margin": null,
            "max_height": null,
            "max_width": null,
            "min_height": null,
            "min_width": null,
            "object_fit": null,
            "object_position": null,
            "order": null,
            "overflow": null,
            "overflow_x": null,
            "overflow_y": null,
            "padding": null,
            "right": null,
            "top": null,
            "visibility": null,
            "width": null
          }
        },
        "c94016d74dd24e1ca27b974613e56078": {
          "model_module": "@jupyter-widgets/controls",
          "model_module_version": "1.5.0",
          "model_name": "HBoxModel",
          "state": {
            "_dom_classes": [],
            "_model_module": "@jupyter-widgets/controls",
            "_model_module_version": "1.5.0",
            "_model_name": "HBoxModel",
            "_view_count": null,
            "_view_module": "@jupyter-widgets/controls",
            "_view_module_version": "1.5.0",
            "_view_name": "HBoxView",
            "box_style": "",
            "children": [
              "IPY_MODEL_4cfb2c741eec45b69c50f04b651f3eb7",
              "IPY_MODEL_d6e6c100050f42a999c8b12a92b2de1f",
              "IPY_MODEL_24e6545fc66a40308520f37a9923baf8"
            ],
            "layout": "IPY_MODEL_34927be62bd94dfe837fca409b92b95b"
          }
        },
        "d468f9d522c54e0fa86208d2eb5d51f8": {
          "model_module": "@jupyter-widgets/base",
          "model_module_version": "1.2.0",
          "model_name": "LayoutModel",
          "state": {
            "_model_module": "@jupyter-widgets/base",
            "_model_module_version": "1.2.0",
            "_model_name": "LayoutModel",
            "_view_count": null,
            "_view_module": "@jupyter-widgets/base",
            "_view_module_version": "1.2.0",
            "_view_name": "LayoutView",
            "align_content": null,
            "align_items": null,
            "align_self": null,
            "border": null,
            "bottom": null,
            "display": null,
            "flex": null,
            "flex_flow": null,
            "grid_area": null,
            "grid_auto_columns": null,
            "grid_auto_flow": null,
            "grid_auto_rows": null,
            "grid_column": null,
            "grid_gap": null,
            "grid_row": null,
            "grid_template_areas": null,
            "grid_template_columns": null,
            "grid_template_rows": null,
            "height": null,
            "justify_content": null,
            "justify_items": null,
            "left": null,
            "margin": null,
            "max_height": null,
            "max_width": null,
            "min_height": null,
            "min_width": null,
            "object_fit": null,
            "object_position": null,
            "order": null,
            "overflow": null,
            "overflow_x": null,
            "overflow_y": null,
            "padding": null,
            "right": null,
            "top": null,
            "visibility": null,
            "width": "20px"
          }
        },
        "d4f14139faa940b0a0a29e65441335e4": {
          "model_module": "@jupyter-widgets/controls",
          "model_module_version": "1.5.0",
          "model_name": "HBoxModel",
          "state": {
            "_dom_classes": [],
            "_model_module": "@jupyter-widgets/controls",
            "_model_module_version": "1.5.0",
            "_model_name": "HBoxModel",
            "_view_count": null,
            "_view_module": "@jupyter-widgets/controls",
            "_view_module_version": "1.5.0",
            "_view_name": "HBoxView",
            "box_style": "",
            "children": [
              "IPY_MODEL_4b779c9581f849f3b8a6d2265d0ed1f0",
              "IPY_MODEL_e5fc59c506d04cb3ba33d19b97cf6744",
              "IPY_MODEL_365ecbb4b5be4d9eb4ec40d1b82220fc"
            ],
            "layout": "IPY_MODEL_973b891a5c454fba8156a5649f15e78d"
          }
        },
        "d6e6c100050f42a999c8b12a92b2de1f": {
          "model_module": "@jupyter-widgets/controls",
          "model_module_version": "1.5.0",
          "model_name": "FloatProgressModel",
          "state": {
            "_dom_classes": [],
            "_model_module": "@jupyter-widgets/controls",
            "_model_module_version": "1.5.0",
            "_model_name": "FloatProgressModel",
            "_view_count": null,
            "_view_module": "@jupyter-widgets/controls",
            "_view_module_version": "1.5.0",
            "_view_name": "ProgressView",
            "bar_style": "",
            "description": "",
            "description_tooltip": null,
            "layout": "IPY_MODEL_8076ca47dc6a4a86b129d1d7e881bbdf",
            "max": 10000,
            "min": 0,
            "orientation": "horizontal",
            "style": "IPY_MODEL_44a9c104077940818c25bee1e7cf9664",
            "value": 10000
          }
        },
        "e172714c5f614dd690a4b807f249a315": {
          "model_module": "@jupyter-widgets/controls",
          "model_module_version": "1.5.0",
          "model_name": "DescriptionStyleModel",
          "state": {
            "_model_module": "@jupyter-widgets/controls",
            "_model_module_version": "1.5.0",
            "_model_name": "DescriptionStyleModel",
            "_view_count": null,
            "_view_module": "@jupyter-widgets/base",
            "_view_module_version": "1.2.0",
            "_view_name": "StyleView",
            "description_width": ""
          }
        },
        "e1e0a9f07915413fab1cd70373d0bcae": {
          "model_module": "@jupyter-widgets/controls",
          "model_module_version": "1.5.0",
          "model_name": "DescriptionStyleModel",
          "state": {
            "_model_module": "@jupyter-widgets/controls",
            "_model_module_version": "1.5.0",
            "_model_name": "DescriptionStyleModel",
            "_view_count": null,
            "_view_module": "@jupyter-widgets/base",
            "_view_module_version": "1.2.0",
            "_view_name": "StyleView",
            "description_width": ""
          }
        },
        "e5fc59c506d04cb3ba33d19b97cf6744": {
          "model_module": "@jupyter-widgets/controls",
          "model_module_version": "1.5.0",
          "model_name": "FloatProgressModel",
          "state": {
            "_dom_classes": [],
            "_model_module": "@jupyter-widgets/controls",
            "_model_module_version": "1.5.0",
            "_model_name": "FloatProgressModel",
            "_view_count": null,
            "_view_module": "@jupyter-widgets/controls",
            "_view_module_version": "1.5.0",
            "_view_name": "ProgressView",
            "bar_style": "success",
            "description": "",
            "description_tooltip": null,
            "layout": "IPY_MODEL_d468f9d522c54e0fa86208d2eb5d51f8",
            "max": 1,
            "min": 0,
            "orientation": "horizontal",
            "style": "IPY_MODEL_6eb706ee60484c13bb611221f87ca836",
            "value": 1
          }
        },
        "e7c590a2f2ce48a2b2e22c09d86fdf64": {
          "model_module": "@jupyter-widgets/base",
          "model_module_version": "1.2.0",
          "model_name": "LayoutModel",
          "state": {
            "_model_module": "@jupyter-widgets/base",
            "_model_module_version": "1.2.0",
            "_model_name": "LayoutModel",
            "_view_count": null,
            "_view_module": "@jupyter-widgets/base",
            "_view_module_version": "1.2.0",
            "_view_name": "LayoutView",
            "align_content": null,
            "align_items": null,
            "align_self": null,
            "border": null,
            "bottom": null,
            "display": null,
            "flex": null,
            "flex_flow": null,
            "grid_area": null,
            "grid_auto_columns": null,
            "grid_auto_flow": null,
            "grid_auto_rows": null,
            "grid_column": null,
            "grid_gap": null,
            "grid_row": null,
            "grid_template_areas": null,
            "grid_template_columns": null,
            "grid_template_rows": null,
            "height": null,
            "justify_content": null,
            "justify_items": null,
            "left": null,
            "margin": null,
            "max_height": null,
            "max_width": null,
            "min_height": null,
            "min_width": null,
            "object_fit": null,
            "object_position": null,
            "order": null,
            "overflow": null,
            "overflow_x": null,
            "overflow_y": null,
            "padding": null,
            "right": null,
            "top": null,
            "visibility": null,
            "width": null
          }
        },
        "f479bb1bb4f5469193fa86b071f158d8": {
          "model_module": "@jupyter-widgets/base",
          "model_module_version": "1.2.0",
          "model_name": "LayoutModel",
          "state": {
            "_model_module": "@jupyter-widgets/base",
            "_model_module_version": "1.2.0",
            "_model_name": "LayoutModel",
            "_view_count": null,
            "_view_module": "@jupyter-widgets/base",
            "_view_module_version": "1.2.0",
            "_view_name": "LayoutView",
            "align_content": null,
            "align_items": null,
            "align_self": null,
            "border": null,
            "bottom": null,
            "display": null,
            "flex": null,
            "flex_flow": null,
            "grid_area": null,
            "grid_auto_columns": null,
            "grid_auto_flow": null,
            "grid_auto_rows": null,
            "grid_column": null,
            "grid_gap": null,
            "grid_row": null,
            "grid_template_areas": null,
            "grid_template_columns": null,
            "grid_template_rows": null,
            "height": null,
            "justify_content": null,
            "justify_items": null,
            "left": null,
            "margin": null,
            "max_height": null,
            "max_width": null,
            "min_height": null,
            "min_width": null,
            "object_fit": null,
            "object_position": null,
            "order": null,
            "overflow": null,
            "overflow_x": null,
            "overflow_y": null,
            "padding": null,
            "right": null,
            "top": null,
            "visibility": null,
            "width": null
          }
        },
        "f73dc6bc2aa04add9b7a3d26ad2307c7": {
          "model_module": "@jupyter-widgets/base",
          "model_module_version": "1.2.0",
          "model_name": "LayoutModel",
          "state": {
            "_model_module": "@jupyter-widgets/base",
            "_model_module_version": "1.2.0",
            "_model_name": "LayoutModel",
            "_view_count": null,
            "_view_module": "@jupyter-widgets/base",
            "_view_module_version": "1.2.0",
            "_view_name": "LayoutView",
            "align_content": null,
            "align_items": null,
            "align_self": null,
            "border": null,
            "bottom": null,
            "display": null,
            "flex": null,
            "flex_flow": null,
            "grid_area": null,
            "grid_auto_columns": null,
            "grid_auto_flow": null,
            "grid_auto_rows": null,
            "grid_column": null,
            "grid_gap": null,
            "grid_row": null,
            "grid_template_areas": null,
            "grid_template_columns": null,
            "grid_template_rows": null,
            "height": null,
            "justify_content": null,
            "justify_items": null,
            "left": null,
            "margin": null,
            "max_height": null,
            "max_width": null,
            "min_height": null,
            "min_width": null,
            "object_fit": null,
            "object_position": null,
            "order": null,
            "overflow": null,
            "overflow_x": null,
            "overflow_y": null,
            "padding": null,
            "right": null,
            "top": null,
            "visibility": "hidden",
            "width": null
          }
        },
        "fb3dc8e9bacc48568a17de938be2287b": {
          "model_module": "@jupyter-widgets/controls",
          "model_module_version": "1.5.0",
          "model_name": "DescriptionStyleModel",
          "state": {
            "_model_module": "@jupyter-widgets/controls",
            "_model_module_version": "1.5.0",
            "_model_name": "DescriptionStyleModel",
            "_view_count": null,
            "_view_module": "@jupyter-widgets/base",
            "_view_module_version": "1.2.0",
            "_view_name": "StyleView",
            "description_width": ""
          }
        }
      }
    }
  },
  "nbformat": 4,
  "nbformat_minor": 0
}